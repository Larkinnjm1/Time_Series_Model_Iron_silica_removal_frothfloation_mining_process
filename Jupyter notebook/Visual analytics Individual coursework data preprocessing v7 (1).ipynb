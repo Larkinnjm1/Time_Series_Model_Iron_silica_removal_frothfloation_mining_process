{
 "cells": [
  {
   "cell_type": "markdown",
   "metadata": {
    "toc": true
   },
   "source": [
    "<h1>Table of Contents<span class=\"tocSkip\"></span></h1>\n",
    "<div class=\"toc\"><ul class=\"toc-item\"><li><span><a href=\"#Introduction\" data-toc-modified-id=\"Introduction-1\"><span class=\"toc-item-num\">1&nbsp;&nbsp;</span>Introduction</a></span><ul class=\"toc-item\"><li><span><a href=\"#Objects-to-use-for-analysis\" data-toc-modified-id=\"Objects-to-use-for-analysis-1.1\"><span class=\"toc-item-num\">1.1&nbsp;&nbsp;</span>Objects to use for analysis</a></span></li><li><span><a href=\"#Data-preprocessing\" data-toc-modified-id=\"Data-preprocessing-1.2\"><span class=\"toc-item-num\">1.2&nbsp;&nbsp;</span>Data preprocessing</a></span></li><li><span><a href=\"#Generation-of-aggregated-dataset-by-the-hour\" data-toc-modified-id=\"Generation-of-aggregated-dataset-by-the-hour-1.3\"><span class=\"toc-item-num\">1.3&nbsp;&nbsp;</span>Generation of aggregated dataset by the hour</a></span></li><li><span><a href=\"#Standardisation-of-specific-time-series\" data-toc-modified-id=\"Standardisation-of-specific-time-series-1.4\"><span class=\"toc-item-num\">1.4&nbsp;&nbsp;</span>Standardisation of specific time series</a></span></li><li><span><a href=\"#Aggregated-Time-series-results-histograms\" data-toc-modified-id=\"Aggregated-Time-series-results-histograms-1.5\"><span class=\"toc-item-num\">1.5&nbsp;&nbsp;</span>Aggregated Time series results histograms</a></span></li><li><span><a href=\"#Aggregate-time-series-plots\" data-toc-modified-id=\"Aggregate-time-series-plots-1.6\"><span class=\"toc-item-num\">1.6&nbsp;&nbsp;</span>Aggregate time series plots</a></span></li><li><span><a href=\"#Aggregate-time-series-data-diff-creation\" data-toc-modified-id=\"Aggregate-time-series-data-diff-creation-1.7\"><span class=\"toc-item-num\">1.7&nbsp;&nbsp;</span>Aggregate time series data diff creation</a></span></li><li><span><a href=\"#Exploratory-data-analysis-comparison-between-time-series-and-dataset.-Aggregated-data\" data-toc-modified-id=\"Exploratory-data-analysis-comparison-between-time-series-and-dataset.-Aggregated-data-1.8\"><span class=\"toc-item-num\">1.8&nbsp;&nbsp;</span>Exploratory data analysis comparison between time series and dataset. Aggregated data</a></span></li></ul></li><li><span><a href=\"#Exploratory-data-analysis\" data-toc-modified-id=\"Exploratory-data-analysis-2\"><span class=\"toc-item-num\">2&nbsp;&nbsp;</span>Exploratory data analysis</a></span><ul class=\"toc-item\"><li><span><a href=\"#Data-set-relating-to-input-feed-correlation-to-each-other\" data-toc-modified-id=\"Data-set-relating-to-input-feed-correlation-to-each-other-2.1\"><span class=\"toc-item-num\">2.1&nbsp;&nbsp;</span>Data set relating to input feed correlation to each other</a></span></li><li><span><a href=\"#Analysis-on-Stationarity-and-autocorrelation-and-partial-autocorrelation\" data-toc-modified-id=\"Analysis-on-Stationarity-and-autocorrelation-and-partial-autocorrelation-2.2\"><span class=\"toc-item-num\">2.2&nbsp;&nbsp;</span>Analysis on Stationarity and autocorrelation and partial autocorrelation</a></span></li><li><span><a href=\"#Generate-histogram-of-feed-to-vessel\" data-toc-modified-id=\"Generate-histogram-of-feed-to-vessel-2.3\"><span class=\"toc-item-num\">2.3&nbsp;&nbsp;</span>Generate histogram of feed to vessel</a></span></li><li><span><a href=\"#Data-with-respect-to-froth-flotation-collectors,depressants-etc\" data-toc-modified-id=\"Data-with-respect-to-froth-flotation-collectors,depressants-etc-2.4\"><span class=\"toc-item-num\">2.4&nbsp;&nbsp;</span>Data with respect to froth flotation collectors,depressants etc</a></span></li><li><span><a href=\"#Plot-of-differencing-approaches-of-un-aggregated-data-set-trend\" data-toc-modified-id=\"Plot-of-differencing-approaches-of-un-aggregated-data-set-trend-2.5\"><span class=\"toc-item-num\">2.5&nbsp;&nbsp;</span>Plot of differencing approaches of un aggregated data set trend</a></span></li><li><span><a href=\"#Smoothing-operation-using-Savitzky-Gorsky-low-pass-filter\" data-toc-modified-id=\"Smoothing-operation-using-Savitzky-Gorsky-low-pass-filter-2.6\"><span class=\"toc-item-num\">2.6&nbsp;&nbsp;</span>Smoothing operation using Savitzky-Gorsky low pass filter</a></span><ul class=\"toc-item\"><li><span><a href=\"#Amina-Flow-smoothing\" data-toc-modified-id=\"Amina-Flow-smoothing-2.6.1\"><span class=\"toc-item-num\">2.6.1&nbsp;&nbsp;</span>Amina Flow smoothing</a></span></li><li><span><a href=\"#Starch-Flowrate\" data-toc-modified-id=\"Starch-Flowrate-2.6.2\"><span class=\"toc-item-num\">2.6.2&nbsp;&nbsp;</span>Starch Flowrate</a></span></li></ul></li><li><span><a href=\"#Air-Flow-Rate\" data-toc-modified-id=\"Air-Flow-Rate-2.7\"><span class=\"toc-item-num\">2.7&nbsp;&nbsp;</span>Air Flow Rate</a></span></li><li><span><a href=\"#Correlation-between-different-columns-processing-parameters\" data-toc-modified-id=\"Correlation-between-different-columns-processing-parameters-2.8\"><span class=\"toc-item-num\">2.8&nbsp;&nbsp;</span>Correlation between different columns processing parameters</a></span></li></ul></li><li><span><a href=\"#flotation-cell-output-time-series-data-analysis\" data-toc-modified-id=\"flotation-cell-output-time-series-data-analysis-3\"><span class=\"toc-item-num\">3&nbsp;&nbsp;</span>flotation cell output time series data analysis</a></span></li><li><span><a href=\"#Points-in-data-where-%-Iron-and-%-Silica-feed-where-not-reading-back-correctly.\" data-toc-modified-id=\"Points-in-data-where-%-Iron-and-%-Silica-feed-where-not-reading-back-correctly.-4\"><span class=\"toc-item-num\">4&nbsp;&nbsp;</span>Points in data where % Iron and % Silica feed where not reading back correctly.</a></span></li></ul></div>"
   ]
  },
  {
   "cell_type": "markdown",
   "metadata": {},
   "source": [
    "# Introduction\n",
    "\n",
    "The purpose of this notebook is to perform data pre processing to import and merge multiple datasets for the USA climate temperature trends from 2006 to 2016 so as that the data set can then be utilised for cluster analysis and visualisation in Tableau. "
   ]
  },
  {
   "cell_type": "code",
   "execution_count": 2,
   "metadata": {
    "scrolled": true
   },
   "outputs": [
    {
     "name": "stderr",
     "output_type": "stream",
     "text": [
      "c:\\users\\niall\\anaconda3\\lib\\site-packages\\statsmodels\\compat\\pandas.py:56: FutureWarning: The pandas.core.datetools module is deprecated and will be removed in a future version. Please use the pandas.tseries module instead.\n",
      "  from pandas.core import datetools\n"
     ]
    }
   ],
   "source": [
    "#Importing of multiple librarieds for processing\n",
    "\n",
    "import pandas as pd\n",
    "import os\n",
    "import numpy as np\n",
    "pd.set_option('display.max_columns', 500)\n",
    "import matplotlib \n",
    "import matplotlib.pyplot as plt\n",
    "import seaborn as sns \n",
    "from statsmodels.graphics import tsaplots\n",
    "from pandas import Series\n",
    "from statsmodels.tsa.stattools import adfuller\n",
    "import string\n",
    "from scipy import stats"
   ]
  },
  {
   "cell_type": "code",
   "execution_count": 5,
   "metadata": {},
   "outputs": [],
   "source": [
    "#Changing directory for data analysis\n",
    "\n",
    "#os.chdir(r'\\\\nsq024vs\\u8\\aczd087\\MyDocs\\Data science masters\\inm433 visual analytics\\coursework\\Data')\n",
    "\n",
    "#os.chdir(r'C:\\Users\\niall\\Dropbox\\Data science masters\\INM433 Visual Analytics\\Coursework\\Individual coursework')\n",
    "os.chdir(r'C:\\Users\\niall\\Dropbox\\Data science masters\\INM433 Visual Analytics\\Coursework\\Individual coursework\\Raw data')\n"
   ]
  },
  {
   "cell_type": "code",
   "execution_count": 6,
   "metadata": {},
   "outputs": [],
   "source": [
    "# Getting file names from the directory using python os function \n",
    "\n",
    "#mining_df=pd.read_csv('test.csv')\n",
    "#mining_df=pd.read_csv('test_withdate.csv')\n",
    "#mining_df=pd.read_csv('Mining_dataset_with_correct_time.xlsx')\n",
    "\n",
    "final_ag_hour_mean=pd.read_excel('Agg_data_table.xlsx')"
   ]
  },
  {
   "cell_type": "markdown",
   "metadata": {},
   "source": [
    "## Objects to use for analysis \n"
   ]
  },
  {
   "cell_type": "code",
   "execution_count": null,
   "metadata": {},
   "outputs": [],
   "source": [
    "#define function for kpss test\n",
    "from statsmodels.tsa.stattools import kpss\n",
    "#define KPSS\n",
    "def kpss_test(timeseries):\n",
    "    print ('Results of KPSS Test:')\n",
    "    kpsstest = kpss(timeseries, regression='c')\n",
    "    kpss_output = pd.Series(kpsstest[0:3], index=['Test Statistic','p-value','Lags Used'])\n",
    "    for key,value in kpsstest[3].items():\n",
    "        \n",
    "        kpss_output['Critical Value (%s)'%key] = value\n",
    "        \n",
    "    print (kpss_output)\n",
    "\n",
    "from statsmodels.tsa.stattools import adfuller\n",
    "def adf_test(timeseries):\n",
    "    #Perform Dickey-Fuller test:\n",
    "    print ('Results of Dickey-Fuller Test:')\n",
    "    dftest = adfuller(timeseries, autolag='AIC')\n",
    "    dfoutput = pd.Series(dftest[0:4], index=['Test Statistic','p-value','#Lags Used','Number of Observations Used'])\n",
    "    \n",
    "    for key,value in dftest[4].items():\n",
    "        \n",
    "       dfoutput['Critical Value (%s)'%key] = value\n",
    "    \n",
    "    \n",
    "    print (dfoutput)"
   ]
  },
  {
   "cell_type": "code",
   "execution_count": null,
   "metadata": {},
   "outputs": [],
   "source": [
    "def savitzky_golay(y, window_size, order, deriv=0, rate=1):\n",
    "    r\"\"\"Smooth (and optionally differentiate) data with a Savitzky-Golay filter.\n",
    "    The Savitzky-Golay filter removes high frequency noise from data.\n",
    "    It has the advantage of preserving the original shape and\n",
    "    features of the signal better than other types of filtering\n",
    "    approaches, such as moving averages techniques.\n",
    "    Parameters\n",
    "    ----------\n",
    "    y : array_like, shape (N,)\n",
    "        the values of the time history of the signal.\n",
    "    window_size : int\n",
    "        the length of the window. Must be an odd integer number.\n",
    "    order : int\n",
    "        the order of the polynomial used in the filtering.\n",
    "        Must be less then `window_size` - 1.\n",
    "    deriv: int\n",
    "        the order of the derivative to compute (default = 0 means only smoothing)\n",
    "    Returns\n",
    "    -------\n",
    "    ys : ndarray, shape (N)\n",
    "        the smoothed signal (or it's n-th derivative).\n",
    "    Notes\n",
    "    -----\n",
    "    The Savitzky-Golay is a type of low-pass filter, particularly\n",
    "    suited for smoothing noisy data. The main idea behind this\n",
    "    approach is to make for each point a least-square fit with a\n",
    "    polynomial of high order over a odd-sized window centered at\n",
    "    the point.\n",
    "    Examples\n",
    "    --------\n",
    "    t = np.linspace(-4, 4, 500)\n",
    "    y = np.exp( -t**2 ) + np.random.normal(0, 0.05, t.shape)\n",
    "    ysg = savitzky_golay(y, window_size=31, order=4)\n",
    "    import matplotlib.pyplot as plt\n",
    "    plt.plot(t, y, label='Noisy signal')\n",
    "    plt.plot(t, np.exp(-t**2), 'k', lw=1.5, label='Original signal')\n",
    "    plt.plot(t, ysg, 'r', label='Filtered signal')\n",
    "    plt.legend()\n",
    "    plt.show()\n",
    "    References\n",
    "    ----------\n",
    "    .. [1] A. Savitzky, M. J. E. Golay, Smoothing and Differentiation of\n",
    "       Data by Simplified Least Squares Procedures. Analytical\n",
    "       Chemistry, 1964, 36 (8), pp 1627-1639.\n",
    "    .. [2] Numerical Recipes 3rd Edition: The Art of Scientific Computing\n",
    "       W.H. Press, S.A. Teukolsky, W.T. Vetterling, B.P. Flannery\n",
    "       Cambridge University Press ISBN-13: 9780521880688\n",
    "    \"\"\"\n",
    "    import numpy as np\n",
    "    from math import factorial\n",
    "\n",
    "    try:\n",
    "        window_size = np.abs(np.int(window_size))\n",
    "        order = np.abs(np.int(order))\n",
    "    except ValueError:\n",
    "        raise ValueError(\"window_size and order have to be of type int\")\n",
    "    if window_size % 2 != 1 or window_size < 1:\n",
    "        raise TypeError(\"window_size size must be a positive odd number\")\n",
    "    if window_size < order + 2:\n",
    "        raise TypeError(\"window_size is too small for the polynomials order\")\n",
    "    order_range = range(order+1)\n",
    "    half_window = (window_size -1) // 2\n",
    "    # precompute coefficients\n",
    "    b = np.mat([[k**i for i in order_range] for k in range(-half_window, half_window+1)])\n",
    "    m = np.linalg.pinv(b).A[deriv] * rate**deriv * factorial(deriv)\n",
    "    # pad the signal at the extremes with\n",
    "    # values taken from the signal itself\n",
    "    firstvals = y[0] - np.abs( y[1:half_window+1][::-1] - y[0] )\n",
    "    lastvals = y[-1] + np.abs(y[-half_window-1:-1][::-1] - y[-1])\n",
    "    y = np.concatenate((firstvals, y, lastvals))\n",
    "    \n",
    "    return np.convolve( m[::-1], y, mode='valid')"
   ]
  },
  {
   "cell_type": "markdown",
   "metadata": {},
   "source": [
    "## Data preprocessing\n",
    "\n",
    "Two items where performed for pre processing:\n",
    "- Removal of commas for decimals places\n",
    "- Reinstroduced seconds back into time stamps as they where missing in each time stamp for the time series. "
   ]
  },
  {
   "cell_type": "code",
   "execution_count": null,
   "metadata": {},
   "outputs": [],
   "source": [
    "mining_df['%_Iron_gained']=mining_df['% Iron Concentrate']- mining_df['% Iron Feed']\n",
    "mining_df['%_Silica_removed']=mining_df['% Silica Feed']-mining_df['% Silica Concentrate'] "
   ]
  },
  {
   "cell_type": "code",
   "execution_count": null,
   "metadata": {},
   "outputs": [],
   "source": [
    "mining_df.index\n",
    "mining_df.date=pd.to_datetime(mining_df.date)"
   ]
  },
  {
   "cell_type": "code",
   "execution_count": null,
   "metadata": {},
   "outputs": [],
   "source": [
    "#Dataset pre processing \n",
    "\n",
    "addtime=pd.Timedelta(20,unit='s')\n",
    "addtime_2=pd.Timedelta(20,unit='s')\n",
    "check_time=pd.Timedelta('0 days 00:58:40')\n",
    "check_time2=pd.Timedelta('01:00:00')\n",
    "\n",
    "mining_time=[]\n",
    "\n",
    "for idx,values in mining_df.date.iteritems():\n",
    "    #print(f'time stamp {values}')\n",
    "    chk1=mining_df.date.iloc[idx]\n",
    "    chk2=mining_df.date.iloc[idx-1]\n",
    "    chk3=chk1.hour-chk2.hour\n",
    "   # print(f'chk 3 value is {chk3}')\n",
    "\n",
    "    \n",
    "    if idx==0:\n",
    "        #print('Down the if channel')\n",
    "        #values+=addtime #Adding time to time stamp \n",
    "        #addtime+=pd.Timedelta(20,unit='s') #Increasing time increment for each subsequent step until next if condition is not met \n",
    "        mining_time.append(values)\n",
    "    \n",
    "    elif chk3==1:\n",
    "        mining_time.append(values)\n",
    "        #print(f'down check3 value {values}')\n",
    "        addtime=pd.Timedelta(20,unit='s')\n",
    "        \n",
    "       \n",
    "    else:\n",
    "        values+=addtime\n",
    "        mining_time.append(values)\n",
    "        addtime+=pd.Timedelta(20,unit='s') #Resetting time step \n",
    "        #print(f'Else step Time addon is {addtime}')\n",
    "        #print(f'counts else {i}')\n",
    "        \n",
    "\n",
    "\n",
    "    "
   ]
  },
  {
   "cell_type": "code",
   "execution_count": null,
   "metadata": {},
   "outputs": [],
   "source": [
    "#Converting time to correct type\n",
    "\n",
    "mining_time_df=pd.DataFrame(mining_time)\n",
    "\n",
    "#concatinating old dataframe with new date dataframe \n",
    "mining_df_final=pd.concat([mining_time_df,mining_df],axis=1)\n",
    "\n",
    "#Renaming columns post concatination\n",
    "mining_df_final.columns=['date_corr',                     'date_orig',\n",
    "                        '% Iron Feed',                '% Silica Feed',\n",
    "                        'Starch Flow',                   'Amina Flow',\n",
    "                      'Ore Pulp Flow',                  'Ore Pulp pH',\n",
    "                   'Ore Pulp Density', 'Flotation Column 01 Air Flow',\n",
    "       'Flotation Column 02 Air Flow', 'Flotation Column 03 Air Flow',\n",
    "       'Flotation Column 04 Air Flow', 'Flotation Column 05 Air Flow',\n",
    "       'Flotation Column 06 Air Flow', 'Flotation Column 07 Air Flow',\n",
    "          'Flotation Column 01 Level',    'Flotation Column 02 Level',\n",
    "          'Flotation Column 03 Level',    'Flotation Column 04 Level',\n",
    "          'Flotation Column 05 Level',    'Flotation Column 06 Level',\n",
    "          'Flotation Column 07 Level',           '% Iron Concentrate',\n",
    "               '% Silica Concentrate',                '%_Iron_gained',\n",
    "                   '%_Silica_removed']\n",
    "\n",
    "mining_df_final.set_index('date_corr',inplace=True)"
   ]
  },
  {
   "cell_type": "code",
   "execution_count": null,
   "metadata": {},
   "outputs": [],
   "source": [
    "mining_df_final.head()"
   ]
  },
  {
   "cell_type": "code",
   "execution_count": null,
   "metadata": {},
   "outputs": [],
   "source": [
    "mining_df_final.to_excel('Mining_dataset_with_correct_time.xlsx')"
   ]
  },
  {
   "cell_type": "code",
   "execution_count": null,
   "metadata": {},
   "outputs": [],
   "source": [
    "#Flat data set parts\n",
    "flatpt1=mining_df_final.iloc[24500:30000,:]\n",
    "flatpt2=mining_df_final.iloc[215000:363000,:]\n",
    "flatpt3=mining_df_final.iloc[525000:580000,:]\n",
    "flat4pt4=mining_df_final.iloc[590000:630000,:]\n",
    "\n",
    "final_flat=pd.concat([flatpt1,flatpt2,flatpt3,flat4pt4],axis=0)\n",
    "\n",
    "#Flat data set parts\n",
    "realpt1=mining_df_final.iloc[:24500,:]\n",
    "realpt2=mining_df_final.iloc[30000:215000,:]\n",
    "realpt3=mining_df_final.iloc[363000:525000,:]\n",
    "realpt4=mining_df_final.iloc[580000:590000,:]\n",
    "realpt5=mining_df_final.iloc[630000:,:]\n",
    "\n",
    "final_real=pd.concat([realpt1,realpt2,realpt3,realpt4,realpt5],axis=0)\n",
    "\n",
    "final_real.head()"
   ]
  },
  {
   "cell_type": "markdown",
   "metadata": {},
   "source": [
    "## Generation of aggregated dataset by the hour \n"
   ]
  },
  {
   "cell_type": "code",
   "execution_count": null,
   "metadata": {},
   "outputs": [],
   "source": [
    "final_ag_hour_mean=final_real.groupby(final_real['date_orig']).mean()\n",
    "final_ag_hour_std=final_real.groupby(final_real['date_orig']).std()\n"
   ]
  },
  {
   "cell_type": "code",
   "execution_count": 4,
   "metadata": {},
   "outputs": [
    {
     "ename": "FileNotFoundError",
     "evalue": "[Errno 2] No such file or directory: 'Agg_data_table.xlsx'",
     "output_type": "error",
     "traceback": [
      "\u001b[1;31m---------------------------------------------------------------------------\u001b[0m",
      "\u001b[1;31mFileNotFoundError\u001b[0m                         Traceback (most recent call last)",
      "\u001b[1;32m<ipython-input-4-96afd7f0c682>\u001b[0m in \u001b[0;36m<module>\u001b[1;34m()\u001b[0m\n\u001b[1;32m----> 1\u001b[1;33m \u001b[0mfinal_ag_hour_mean\u001b[0m\u001b[1;33m=\u001b[0m\u001b[0mpd\u001b[0m\u001b[1;33m.\u001b[0m\u001b[0mread_excel\u001b[0m\u001b[1;33m(\u001b[0m\u001b[1;34m'Agg_data_table.xlsx'\u001b[0m\u001b[1;33m)\u001b[0m\u001b[1;33m\u001b[0m\u001b[0m\n\u001b[0m",
      "\u001b[1;32mc:\\users\\niall\\anaconda3\\lib\\site-packages\\pandas\\util\\_decorators.py\u001b[0m in \u001b[0;36mwrapper\u001b[1;34m(*args, **kwargs)\u001b[0m\n\u001b[0;32m    116\u001b[0m                 \u001b[1;32melse\u001b[0m\u001b[1;33m:\u001b[0m\u001b[1;33m\u001b[0m\u001b[0m\n\u001b[0;32m    117\u001b[0m                     \u001b[0mkwargs\u001b[0m\u001b[1;33m[\u001b[0m\u001b[0mnew_arg_name\u001b[0m\u001b[1;33m]\u001b[0m \u001b[1;33m=\u001b[0m \u001b[0mnew_arg_value\u001b[0m\u001b[1;33m\u001b[0m\u001b[0m\n\u001b[1;32m--> 118\u001b[1;33m             \u001b[1;32mreturn\u001b[0m \u001b[0mfunc\u001b[0m\u001b[1;33m(\u001b[0m\u001b[1;33m*\u001b[0m\u001b[0margs\u001b[0m\u001b[1;33m,\u001b[0m \u001b[1;33m**\u001b[0m\u001b[0mkwargs\u001b[0m\u001b[1;33m)\u001b[0m\u001b[1;33m\u001b[0m\u001b[0m\n\u001b[0m\u001b[0;32m    119\u001b[0m         \u001b[1;32mreturn\u001b[0m \u001b[0mwrapper\u001b[0m\u001b[1;33m\u001b[0m\u001b[0m\n\u001b[0;32m    120\u001b[0m     \u001b[1;32mreturn\u001b[0m \u001b[0m_deprecate_kwarg\u001b[0m\u001b[1;33m\u001b[0m\u001b[0m\n",
      "\u001b[1;32mc:\\users\\niall\\anaconda3\\lib\\site-packages\\pandas\\io\\excel.py\u001b[0m in \u001b[0;36mread_excel\u001b[1;34m(io, sheet_name, header, skiprows, skip_footer, index_col, names, usecols, parse_dates, date_parser, na_values, thousands, convert_float, converters, dtype, true_values, false_values, engine, squeeze, **kwds)\u001b[0m\n\u001b[0;32m    228\u001b[0m \u001b[1;33m\u001b[0m\u001b[0m\n\u001b[0;32m    229\u001b[0m     \u001b[1;32mif\u001b[0m \u001b[1;32mnot\u001b[0m \u001b[0misinstance\u001b[0m\u001b[1;33m(\u001b[0m\u001b[0mio\u001b[0m\u001b[1;33m,\u001b[0m \u001b[0mExcelFile\u001b[0m\u001b[1;33m)\u001b[0m\u001b[1;33m:\u001b[0m\u001b[1;33m\u001b[0m\u001b[0m\n\u001b[1;32m--> 230\u001b[1;33m         \u001b[0mio\u001b[0m \u001b[1;33m=\u001b[0m \u001b[0mExcelFile\u001b[0m\u001b[1;33m(\u001b[0m\u001b[0mio\u001b[0m\u001b[1;33m,\u001b[0m \u001b[0mengine\u001b[0m\u001b[1;33m=\u001b[0m\u001b[0mengine\u001b[0m\u001b[1;33m)\u001b[0m\u001b[1;33m\u001b[0m\u001b[0m\n\u001b[0m\u001b[0;32m    231\u001b[0m \u001b[1;33m\u001b[0m\u001b[0m\n\u001b[0;32m    232\u001b[0m     return io._parse_excel(\n",
      "\u001b[1;32mc:\\users\\niall\\anaconda3\\lib\\site-packages\\pandas\\io\\excel.py\u001b[0m in \u001b[0;36m__init__\u001b[1;34m(self, io, **kwds)\u001b[0m\n\u001b[0;32m    292\u001b[0m             \u001b[0mself\u001b[0m\u001b[1;33m.\u001b[0m\u001b[0mbook\u001b[0m \u001b[1;33m=\u001b[0m \u001b[0mxlrd\u001b[0m\u001b[1;33m.\u001b[0m\u001b[0mopen_workbook\u001b[0m\u001b[1;33m(\u001b[0m\u001b[0mfile_contents\u001b[0m\u001b[1;33m=\u001b[0m\u001b[0mdata\u001b[0m\u001b[1;33m)\u001b[0m\u001b[1;33m\u001b[0m\u001b[0m\n\u001b[0;32m    293\u001b[0m         \u001b[1;32melif\u001b[0m \u001b[0misinstance\u001b[0m\u001b[1;33m(\u001b[0m\u001b[0mself\u001b[0m\u001b[1;33m.\u001b[0m\u001b[0m_io\u001b[0m\u001b[1;33m,\u001b[0m \u001b[0mcompat\u001b[0m\u001b[1;33m.\u001b[0m\u001b[0mstring_types\u001b[0m\u001b[1;33m)\u001b[0m\u001b[1;33m:\u001b[0m\u001b[1;33m\u001b[0m\u001b[0m\n\u001b[1;32m--> 294\u001b[1;33m             \u001b[0mself\u001b[0m\u001b[1;33m.\u001b[0m\u001b[0mbook\u001b[0m \u001b[1;33m=\u001b[0m \u001b[0mxlrd\u001b[0m\u001b[1;33m.\u001b[0m\u001b[0mopen_workbook\u001b[0m\u001b[1;33m(\u001b[0m\u001b[0mself\u001b[0m\u001b[1;33m.\u001b[0m\u001b[0m_io\u001b[0m\u001b[1;33m)\u001b[0m\u001b[1;33m\u001b[0m\u001b[0m\n\u001b[0m\u001b[0;32m    295\u001b[0m         \u001b[1;32melse\u001b[0m\u001b[1;33m:\u001b[0m\u001b[1;33m\u001b[0m\u001b[0m\n\u001b[0;32m    296\u001b[0m             raise ValueError('Must explicitly set engine if not passing in'\n",
      "\u001b[1;32mc:\\users\\niall\\anaconda3\\lib\\site-packages\\xlrd\\__init__.py\u001b[0m in \u001b[0;36mopen_workbook\u001b[1;34m(filename, logfile, verbosity, use_mmap, file_contents, encoding_override, formatting_info, on_demand, ragged_rows)\u001b[0m\n\u001b[0;32m    114\u001b[0m         \u001b[0mpeek\u001b[0m \u001b[1;33m=\u001b[0m \u001b[0mfile_contents\u001b[0m\u001b[1;33m[\u001b[0m\u001b[1;33m:\u001b[0m\u001b[0mpeeksz\u001b[0m\u001b[1;33m]\u001b[0m\u001b[1;33m\u001b[0m\u001b[0m\n\u001b[0;32m    115\u001b[0m     \u001b[1;32melse\u001b[0m\u001b[1;33m:\u001b[0m\u001b[1;33m\u001b[0m\u001b[0m\n\u001b[1;32m--> 116\u001b[1;33m         \u001b[1;32mwith\u001b[0m \u001b[0mopen\u001b[0m\u001b[1;33m(\u001b[0m\u001b[0mfilename\u001b[0m\u001b[1;33m,\u001b[0m \u001b[1;34m\"rb\"\u001b[0m\u001b[1;33m)\u001b[0m \u001b[1;32mas\u001b[0m \u001b[0mf\u001b[0m\u001b[1;33m:\u001b[0m\u001b[1;33m\u001b[0m\u001b[0m\n\u001b[0m\u001b[0;32m    117\u001b[0m             \u001b[0mpeek\u001b[0m \u001b[1;33m=\u001b[0m \u001b[0mf\u001b[0m\u001b[1;33m.\u001b[0m\u001b[0mread\u001b[0m\u001b[1;33m(\u001b[0m\u001b[0mpeeksz\u001b[0m\u001b[1;33m)\u001b[0m\u001b[1;33m\u001b[0m\u001b[0m\n\u001b[0;32m    118\u001b[0m     \u001b[1;32mif\u001b[0m \u001b[0mpeek\u001b[0m \u001b[1;33m==\u001b[0m \u001b[1;34mb\"PK\\x03\\x04\"\u001b[0m\u001b[1;33m:\u001b[0m \u001b[1;31m# a ZIP file\u001b[0m\u001b[1;33m\u001b[0m\u001b[0m\n",
      "\u001b[1;31mFileNotFoundError\u001b[0m: [Errno 2] No such file or directory: 'Agg_data_table.xlsx'"
     ]
    }
   ],
   "source": []
  },
  {
   "cell_type": "code",
   "execution_count": null,
   "metadata": {},
   "outputs": [],
   "source": []
  },
  {
   "cell_type": "code",
   "execution_count": null,
   "metadata": {},
   "outputs": [],
   "source": [
    "final_ag_hour_mean.describe()"
   ]
  },
  {
   "cell_type": "code",
   "execution_count": null,
   "metadata": {},
   "outputs": [],
   "source": [
    "final_ag_hour_std.describe()"
   ]
  },
  {
   "cell_type": "code",
   "execution_count": null,
   "metadata": {
    "scrolled": true
   },
   "outputs": [],
   "source": [
    "final_ag_hour_mean.plot(subplots=True,figsize=(20,30))"
   ]
  },
  {
   "cell_type": "code",
   "execution_count": null,
   "metadata": {
    "scrolled": true
   },
   "outputs": [],
   "source": [
    "final_ag_hour_std.plot(subplots=True,figsize=(20,30))"
   ]
  },
  {
   "cell_type": "markdown",
   "metadata": {},
   "source": [
    "## Standardisation of specific time series "
   ]
  },
  {
   "cell_type": "code",
   "execution_count": null,
   "metadata": {
    "scrolled": true
   },
   "outputs": [],
   "source": [
    "final_ag_hour_mean.head()"
   ]
  },
  {
   "cell_type": "code",
   "execution_count": null,
   "metadata": {},
   "outputs": [],
   "source": [
    "#Iterating and generating autocorrelation for each processing parameter \n",
    "lags=[1,3,24]\n",
    "\n",
    "\n",
    "for cols in final_ag_hour_mean.columns:\n",
    "    print(f'name_col_variable{cols}')\n",
    "    for lag in lags: #iterate through the different lag values in the for loop specified in the lags list and produce ACF plots as a result.\n",
    "        try:\n",
    "            print('Down the try route')\n",
    "            temp_title=''\n",
    "            temp_title=cols+'_ACF_houragg_lag_'+str(lag)\n",
    "            tsaplots.plot_acf(final_ag_hour_mean[cols],lags=lag,title=temp_title)\n",
    "\n",
    "            fintemp=''\n",
    "            fintemp = cols.translate(str.maketrans('','',string.punctuation))\n",
    "            #fintemp = fintemp.translate(str.maketrans('','','1234567890'))\n",
    "            fintemp=fintemp+'_ACF_houragg_lag_'+str(lag)\n",
    "            fintemp=fintemp.replace(' ','_')\n",
    "            fintemp=fintemp+'.png'\n",
    "            print(f'fintemp value={fintemp}')\n",
    "            \n",
    "            plt.savefig(fintemp)\n",
    "            \n",
    "            #tsaplots.plot_pacf(final_real[cols],lags=lag,title=cols+'-PACF_lag-'+str(lag))           \n",
    "            \n",
    "        except:\n",
    "            pass\n",
    "            "
   ]
  },
  {
   "cell_type": "code",
   "execution_count": null,
   "metadata": {},
   "outputs": [],
   "source": [
    "\n",
    "for vals in cols:\n",
    "    \n",
    "    "
   ]
  },
  {
   "cell_type": "markdown",
   "metadata": {},
   "source": [
    "## Aggregated Time series results histograms"
   ]
  },
  {
   "cell_type": "code",
   "execution_count": null,
   "metadata": {},
   "outputs": [],
   "source": [
    "for cols in final_ag_hour_mean.columns:\n",
    "    #print('Down the try route')\n",
    "    temp_title=''\n",
    "    temp_title=cols+'hour_aggregate_histogram'\n",
    "    \n",
    "    final_ag_hour_mean[cols].hist(figsize=(20,10))\n",
    "    \n",
    "    fintemp=''\n",
    "    fintemp = cols.translate(str.maketrans('','',string.punctuation))\n",
    "    #fintemp = fintemp.translate(str.maketrans('','','1234567890'))\n",
    "    fintemp=fintemp+'_histogram_'\n",
    "    fintemp=fintemp.replace(' ','_')\n",
    "    fintemp=fintemp+'.png'\n",
    "    ax=plt.gcf()\n",
    "    \n",
    "    ax.savefig(fintemp)\n",
    "    \n",
    "    plt.clf()"
   ]
  },
  {
   "cell_type": "markdown",
   "metadata": {},
   "source": [
    "## Aggregate time series plots "
   ]
  },
  {
   "cell_type": "code",
   "execution_count": null,
   "metadata": {},
   "outputs": [],
   "source": [
    "for cols in final_ag_hour_mean.columns[:25]:\n",
    "    #print('Down the try route')\n",
    "    temp_title=''\n",
    "    temp_title=cols+'hour_aggregate_TS_500to1000_plot'\n",
    "    \n",
    "    final_ag_hour_mean[cols][500:1000].plot(figsize=(20,10),title=temp_title)\n",
    "    \n",
    "    fintemp=''\n",
    "    fintemp = cols.translate(str.maketrans('','',string.punctuation))\n",
    "    #fintemp = fintemp.translate(str.maketrans('','','1234567890'))\n",
    "    fintemp=fintemp+'_TSplot_500to1000_'\n",
    "    fintemp=fintemp.replace(' ','_')\n",
    "    fintemp=fintemp+'.png'\n",
    "    ax=plt.gcf()\n",
    "    \n",
    "    ax.savefig(fintemp)\n",
    "    \n",
    "    plt.clf()\n",
    "    \n",
    "    \n",
    "    temp_title=''\n",
    "    temp_title=cols+'hour_aggregate_TS_1200to1700_plot'\n",
    "    \n",
    "    final_ag_hour_mean[cols][1200:1700].plot(figsize=(20,10),title=temp_title)\n",
    "    \n",
    "    fintemp=''\n",
    "    fintemp = cols.translate(str.maketrans('','',string.punctuation))\n",
    "    #fintemp = fintemp.translate(str.maketrans('','','1234567890'))\n",
    "    fintemp=fintemp+'_TSplot_1200to1700_'\n",
    "    fintemp=fintemp.replace(' ','_')\n",
    "    fintemp=fintemp+'.png'\n",
    "    ax=plt.gcf()\n",
    "    \n",
    "    ax.savefig(fintemp)\n",
    "    \n",
    "    plt.clf()"
   ]
  },
  {
   "cell_type": "code",
   "execution_count": null,
   "metadata": {},
   "outputs": [],
   "source": [
    "final_ag_hour_mean.columns[2:7]"
   ]
  },
  {
   "cell_type": "markdown",
   "metadata": {},
   "source": [
    "## Aggregate time series data diff creation"
   ]
  },
  {
   "cell_type": "code",
   "execution_count": null,
   "metadata": {},
   "outputs": [],
   "source": [
    "lags=[1,30]\n",
    "\n",
    "for cols in final_ag_hour_mean.columns[2:7]: #iterating through each column to assess detrending and removing seasonality \n",
    "    \n",
    "    for lag in lags:\n",
    "        figname1=''\n",
    "        column_name=cols+'diff_val'+str(lag)\n",
    "        figname1=column_name+'acf.png'\n",
    "        \n",
    "        final_ag_hour_mean[column_name]=final_ag_hour_mean[cols].diff(lag)\n",
    "        #plt.figure(figsize=(20,10)) #Plotting column to determine if pattern has been detrended and seasonality removed\n",
    "        #fig1=final_real[column_name].plot()\n",
    "        \n",
    "        final_ag_hour_mean[column_name].dropna(inplace=True)\n",
    "        fig2=tsaplots.plot_acf(final_ag_hour_mean[column_name],lags=30)\n",
    "        plt.savefig(figname1)\n",
    "        \n",
    "        plt.clf()"
   ]
  },
  {
   "cell_type": "code",
   "execution_count": null,
   "metadata": {},
   "outputs": [],
   "source": [
    "variable_names=final_ag_hour_mean.columns\n",
    "variable_names[25:]"
   ]
  },
  {
   "cell_type": "code",
   "execution_count": null,
   "metadata": {},
   "outputs": [],
   "source": [
    "#iterating through each time series that is new \n",
    "for cols in final_ag_hour_mean.columns[25:]:\n",
    "    #print('Down the try route')\n",
    "    temp_title=''\n",
    "    temp_title=cols+'hour_aggregate_TSDiff_plot'\n",
    "    \n",
    "    final_ag_hour_mean[cols].plot(figsize=(20,10))\n",
    "    \n",
    "    fintemp=''\n",
    "    fintemp = cols.translate(str.maketrans('','',string.punctuation))\n",
    "    #fintemp = fintemp.translate(str.maketrans('','','1234567890'))\n",
    "    fintemp=fintemp+'_TSDiffplot_'\n",
    "    fintemp=fintemp.replace(' ','_')\n",
    "    fintemp=fintemp+'.png'\n",
    "    ax=plt.gcf()\n",
    "    \n",
    "    ax.savefig(fintemp)\n",
    "    \n",
    "    plt.clf()"
   ]
  },
  {
   "cell_type": "code",
   "execution_count": null,
   "metadata": {},
   "outputs": [],
   "source": [
    "#iterating through each time series that is new \n",
    "for cols in final_ag_hour_mean.columns[25:]:\n",
    "    #print('Down the try route')\n",
    "    #First print out of data \n",
    "    temp_title=''\n",
    "    temp_title=cols+'hour_aggregate_TSDiff_plot_500to1000'\n",
    "    \n",
    "    final_ag_hour_mean[cols][500:1000].plot(figsize=(20,10),title=temp_title)\n",
    "    \n",
    "    fintemp=''\n",
    "    fintemp = cols.translate(str.maketrans('','',string.punctuation))\n",
    "    #fintemp = fintemp.translate(str.maketrans('','','1234567890'))\n",
    "    fintemp=fintemp+'_TSDiffplot_500to1000'\n",
    "    fintemp=fintemp.replace(' ','_')\n",
    "    fintemp=fintemp+'.png'\n",
    "    ax=plt.gcf()\n",
    "    \n",
    "    ax.savefig(fintemp)\n",
    "    plt.clf()\n",
    "    \n",
    "    temp_title=''\n",
    "    temp_title=cols+'hour_aggregate_TSDiff_plot_1200to1700'\n",
    "    \n",
    "    final_ag_hour_mean[cols][1200:1700].plot(figsize=(20,10),title=temp_title)\n",
    "    \n",
    "    fintemp=''\n",
    "    fintemp = cols.translate(str.maketrans('','',string.punctuation))\n",
    "    #fintemp = fintemp.translate(str.maketrans('','','1234567890'))\n",
    "    fintemp=fintemp+'_TSDiffplot_1200to1700'\n",
    "    fintemp=fintemp.replace(' ','_')\n",
    "    fintemp=fintemp+'.png'\n",
    "    ax=plt.gcf()\n",
    "    \n",
    "    ax.savefig(fintemp)\n",
    "    \n",
    "    plt.clf()"
   ]
  },
  {
   "cell_type": "code",
   "execution_count": null,
   "metadata": {},
   "outputs": [],
   "source": [
    "final_ag_hour_mean.columns"
   ]
  },
  {
   "cell_type": "code",
   "execution_count": null,
   "metadata": {},
   "outputs": [],
   "source": [
    "#Plot 3D plot scatter of the air vs volumns vs silica removed. \n",
    "\n",
    "#for vals in final_ag_hour_mean.columns:\n",
    "\n",
    "from mpl_toolkits.mplot3d import Axes3D\n",
    "fig = plt.figure(1, figsize=(6, 5))\n",
    "\n",
    "ax = Axes3D(fig, rect=[0, 0, .95, 1], elev=15, azim=100) # change parameters here for experimenting\n",
    "ax.scatter(final_ag_hour_mean['Flotation Column 01 Air Flow'],\n",
    "            final_ag_hour_mean['Flotation Column 01 Level'],\n",
    "            final_ag_hour_mean['% Silica Concentrate'],alpha=0.1)\n",
    "\n",
    "ax.set_xlabel('Flotation column air flow')\n",
    "ax.set_ylabel('Flotation column level')\n",
    "ax.set_zlabel('% Silica Concentrate')\n",
    "\n",
    "plt.show()    \n",
    "    \n"
   ]
  },
  {
   "cell_type": "code",
   "execution_count": null,
   "metadata": {},
   "outputs": [],
   "source": [
    "#Plot 3D plot scatter of the air vs volumns vs silica removed. \n",
    "\n",
    "from mpl_toolkits.mplot3d import Axes3D\n",
    "fig = plt.figure(1, figsize=(6, 5))\n",
    "\n",
    "ax = Axes3D(fig, rect=[0, 0, .95, 1], elev=15, azim=0) # change parameters here for experimenting\n",
    "ax.scatter(final_ag_hour_mean['Flotation Column 01 Air Flow'],\n",
    "            final_ag_hour_mean['Flotation Column 01 Level'],\n",
    "            final_ag_hour_mean['% Silica Concentrate'],alpha=0.1)\n",
    "\n",
    "ax.set_xlabel('Flotation column air flow')\n",
    "ax.set_ylabel('Flotation column level')\n",
    "ax.set_zlabel('% Silica Concentrate')\n",
    "\n",
    "plt.show()    \n",
    "    \n"
   ]
  },
  {
   "cell_type": "code",
   "execution_count": null,
   "metadata": {},
   "outputs": [],
   "source": [
    "#Plot 3D plot scatter of the air vs volumns vs silica removed. \n",
    "\n",
    "from mpl_toolkits.mplot3d import Axes3D\n",
    "fig = plt.figure(1, figsize=(6, 5))\n",
    "\n",
    "ax = Axes3D(fig, rect=[0, 0, .95, 1], elev=15, azim=55) # change parameters here for experimenting\n",
    "ax.scatter(final_ag_hour_mean['Flotation Column 01 Air Flow'],\n",
    "            final_ag_hour_mean['Flotation Column 01 Level'],\n",
    "            final_ag_hour_mean['% Silica Concentrate'],alpha=0.1)\n",
    "\n",
    "ax.set_xlabel('Flotation column air flow')\n",
    "ax.set_ylabel('Flotation column level')\n",
    "ax.set_zlabel('% Silica Concentrate')\n",
    "\n",
    "plt.show()    "
   ]
  },
  {
   "cell_type": "code",
   "execution_count": null,
   "metadata": {},
   "outputs": [],
   "source": [
    "#COLUMN AIR FLOW VS COLUMN LEVEL 01\n",
    "\n",
    "plt.scatter(final_ag_hour_mean['Flotation Column 01 Air Flow'],\n",
    "            final_ag_hour_mean['Flotation Column 01 Level'])\n",
    "plt.title('Column 01 Air flow vs Level')\n",
    "plt.xlabel('Flotation column air flow')\n",
    "plt.ylabel('Flotation column level')\n",
    "\n",
    "plt.show()\n",
    "plt.savefig('Col01AirFlowvsLevel.png')"
   ]
  },
  {
   "cell_type": "code",
   "execution_count": null,
   "metadata": {},
   "outputs": [],
   "source": [
    "#COLUMN AIR FLOW VS COLUMN LEVEL 02\n",
    "\n",
    "plt.scatter(final_ag_hour_mean['Flotation Column 02 Air Flow'],\n",
    "            final_ag_hour_mean['Flotation Column 02 Level'])\n",
    "plt.title('Column 02 Air flow vs Level')\n",
    "plt.xlabel('Flotation column air flow')\n",
    "plt.ylabel('Flotation column level')\n",
    "\n",
    "plt.show()\n",
    "plt.savefig('Col02AirFlowvsLevel.png')"
   ]
  },
  {
   "cell_type": "code",
   "execution_count": null,
   "metadata": {},
   "outputs": [],
   "source": [
    "#COLUMN AIR FLOW VS COLUMN LEVEL 03\n",
    "\n",
    "\n",
    "plt.scatter(final_ag_hour_mean['Flotation Column 02 Air Flow'],\n",
    "            final_ag_hour_mean['Flotation Column 02 Level'])\n",
    "plt.title('Column 02 Air flow vs Level')\n",
    "plt.xlabel('Flotation column air flow')\n",
    "plt.ylabel('Flotation column level')\n",
    "\n",
    "plt.show()\n",
    "plt.savefig('Col02AirFlowvsLevel.png')"
   ]
  },
  {
   "cell_type": "code",
   "execution_count": null,
   "metadata": {},
   "outputs": [],
   "source": [
    "#COLUMN AIR FLOW VS COLUMN LEVEL 03\n",
    "\n",
    "\n",
    "plt.scatter(final_ag_hour_mean['Flotation Column 03 Air Flow'],\n",
    "            final_ag_hour_mean['Flotation Column 03 Level'])\n",
    "plt.title('Column 03 Air flow vs Level')\n",
    "plt.xlabel('Flotation column air flow')\n",
    "plt.ylabel('Flotation column level')\n",
    "\n",
    "plt.show()\n",
    "plt.savefig('Col03AirFlowvsLevel.png')"
   ]
  },
  {
   "cell_type": "code",
   "execution_count": null,
   "metadata": {},
   "outputs": [],
   "source": [
    "#COLUMN AIR FLOW VS COLUMN LEVEL 04\n",
    "\n",
    "plt.scatter(final_ag_hour_mean['Flotation Column 04 Air Flow'],\n",
    "            final_ag_hour_mean['Flotation Column 04 Level'])\n",
    "plt.title('Column 04 Air flow vs Level')\n",
    "plt.xlabel('Flotation column air flow')\n",
    "plt.ylabel('Flotation column level')\n",
    "\n",
    "plt.show()\n",
    "plt.savefig('Col04AirFlowvsLevel.png')"
   ]
  },
  {
   "cell_type": "code",
   "execution_count": null,
   "metadata": {},
   "outputs": [],
   "source": [
    "#COLUMN AIR FLOW VS COLUMN LEVEL 05\n",
    "\n",
    "plt.scatter(final_ag_hour_mean['Flotation Column 05 Air Flow'],\n",
    "            final_ag_hour_mean['Flotation Column 05 Level'])\n",
    "plt.title('Column 05 Air flow vs Level')\n",
    "plt.xlabel('Flotation column air flow')\n",
    "plt.ylabel('Flotation column level')\n",
    "\n",
    "plt.show()\n",
    "plt.savefig('Col05AirFlowvsLevel.png')"
   ]
  },
  {
   "cell_type": "code",
   "execution_count": null,
   "metadata": {},
   "outputs": [],
   "source": [
    "#COLUMN AIR FLOW VS COLUMN LEVEL 06\n",
    "\n",
    "plt.scatter(final_ag_hour_mean['Flotation Column 06 Air Flow'],\n",
    "            final_ag_hour_mean['Flotation Column 06 Level'])\n",
    "plt.title('Column 06 Air flow vs Level')\n",
    "plt.xlabel('Flotation column air flow')\n",
    "plt.ylabel('Flotation column level')\n",
    "\n",
    "plt.show()\n",
    "plt.savefig('Col06AirFlowvsLevel.png')"
   ]
  },
  {
   "cell_type": "code",
   "execution_count": null,
   "metadata": {},
   "outputs": [],
   "source": [
    "#COLUMN AIR FLOW VS COLUMN LEVEL 07\n",
    "\n",
    "plt.scatter(final_ag_hour_mean['Flotation Column 07 Air Flow'],\n",
    "            final_ag_hour_mean['Flotation Column 07 Level'])\n",
    "plt.title('Column 07 Air flow vs Level')\n",
    "plt.xlabel('Flotation column air flow')\n",
    "plt.ylabel('Flotation column level')\n",
    "\n",
    "plt.show()\n",
    "plt.savefig('Col07AirFlowvsLevel.png')"
   ]
  },
  {
   "cell_type": "code",
   "execution_count": null,
   "metadata": {},
   "outputs": [],
   "source": [
    "final_ag_hour_mean.to_excel('Agg_data_table.xlsx')"
   ]
  },
  {
   "cell_type": "markdown",
   "metadata": {},
   "source": [
    "## Exploratory data analysis comparison between time series and dataset. Aggregated data "
   ]
  },
  {
   "cell_type": "code",
   "execution_count": 8,
   "metadata": {},
   "outputs": [
    {
     "data": {
      "text/plain": [
       "Index(['date_orig', '% Iron Feed', '% Silica Feed', 'Starch Flow',\n",
       "       'Amina Flow', 'Ore Pulp Flow', 'Ore Pulp pH', 'Ore Pulp Density',\n",
       "       'Flotation Column 01 Air Flow', 'Flotation Column 02 Air Flow',\n",
       "       'Flotation Column 03 Air Flow', 'Flotation Column 04 Air Flow',\n",
       "       'Flotation Column 05 Air Flow', 'Flotation Column 06 Air Flow',\n",
       "       'Flotation Column 07 Air Flow', 'Flotation Column 01 Level',\n",
       "       'Flotation Column 02 Level', 'Flotation Column 03 Level',\n",
       "       'Flotation Column 04 Level', 'Flotation Column 05 Level',\n",
       "       'Flotation Column 06 Level', 'Flotation Column 07 Level',\n",
       "       '% Iron Concentrate', '% Silica Concentrate', '%_Iron_gained',\n",
       "       '%_Silica_removed', 'Starch Flowdiff_val1', 'Starch Flowdiff_val30',\n",
       "       'Amina Flowdiff_val1', 'Amina Flowdiff_val30', 'Ore Pulp Flowdiff_val1',\n",
       "       'Ore Pulp Flowdiff_val30', 'Ore Pulp pHdiff_val1',\n",
       "       'Ore Pulp pHdiff_val30', 'Ore Pulp Densitydiff_val1',\n",
       "       'Ore Pulp Densitydiff_val30'],\n",
       "      dtype='object')"
      ]
     },
     "execution_count": 8,
     "metadata": {},
     "output_type": "execute_result"
    }
   ],
   "source": [
    "final_ag_hour_mean.columns"
   ]
  },
  {
   "cell_type": "code",
   "execution_count": null,
   "metadata": {},
   "outputs": [],
   "source": [
    "final_ag_hour_mean['Amina Flowdiff_val1'][1200:1700].plot(figsize=(20,10))"
   ]
  },
  {
   "cell_type": "code",
   "execution_count": 10,
   "metadata": {},
   "outputs": [
    {
     "data": {
      "text/plain": [
       "<matplotlib.collections.PathCollection at 0x20a3444ab38>"
      ]
     },
     "execution_count": 10,
     "metadata": {},
     "output_type": "execute_result"
    },
    {
     "data": {
      "image/png": "[encoded data removed]",
      "text/plain": [
       "<matplotlib.figure.Figure at 0x20a3489ac88>"
      ]
     },
     "metadata": {
      "needs_background": "light"
     },
     "output_type": "display_data"
    }
   ],
   "source": [
    "plt.scatter(final_ag_hour_mean['% Iron Feed'],final_ag_hour_mean['% Silica Feed'])"
   ]
  },
  {
   "cell_type": "code",
   "execution_count": 15,
   "metadata": {},
   "outputs": [
    {
     "data": {
      "text/plain": [
       "<matplotlib.collections.PathCollection at 0x20a376ec898>"
      ]
     },
     "execution_count": 15,
     "metadata": {},
     "output_type": "execute_result"
    },
    {
     "data": {
      "image/png": "[encoded data removed]",
      "text/plain": [
       "<matplotlib.figure.Figure at 0x20a3529aa90>"
      ]
     },
     "metadata": {
      "needs_background": "light"
     },
     "output_type": "display_data"
    }
   ],
   "source": [
    "plt.scatter(final_ag_hour_mean['% Iron Concentrate'],final_ag_hour_mean['% Silica Concentrate'])"
   ]
  },
  {
   "cell_type": "code",
   "execution_count": 11,
   "metadata": {},
   "outputs": [
    {
     "data": {
      "text/plain": [
       "<matplotlib.collections.PathCollection at 0x20a34ede7b8>"
      ]
     },
     "execution_count": 11,
     "metadata": {},
     "output_type": "execute_result"
    },
    {
     "data": {
      "image/png": "[encoded data removed]",
      "text/plain": [
       "<matplotlib.figure.Figure at 0x20a3472db38>"
      ]
     },
     "metadata": {
      "needs_background": "light"
     },
     "output_type": "display_data"
    }
   ],
   "source": [
    "plt.scatter(final_ag_hour_mean['% Iron Feed'],final_ag_hour_mean['% Silica Concentrate'])"
   ]
  },
  {
   "cell_type": "code",
   "execution_count": 13,
   "metadata": {},
   "outputs": [
    {
     "data": {
      "text/plain": [
       "<matplotlib.collections.PathCollection at 0x20a34dc6b70>"
      ]
     },
     "execution_count": 13,
     "metadata": {},
     "output_type": "execute_result"
    },
    {
     "data": {
      "image/png": "[encoded data removed]",
      "text/plain": [
       "<matplotlib.figure.Figure at 0x20a35085518>"
      ]
     },
     "metadata": {
      "needs_background": "light"
     },
     "output_type": "display_data"
    }
   ],
   "source": [
    "plt.scatter(final_ag_hour_mean['% Iron Feed'],final_ag_hour_mean['% Iron Concentrate'])"
   ]
  },
  {
   "cell_type": "code",
   "execution_count": 14,
   "metadata": {},
   "outputs": [
    {
     "data": {
      "text/plain": [
       "<matplotlib.collections.PathCollection at 0x20a33b90b38>"
      ]
     },
     "execution_count": 14,
     "metadata": {},
     "output_type": "execute_result"
    },
    {
     "data": {
      "image/png": "[encoded data removed]",
      "text/plain": [
       "<matplotlib.figure.Figure at 0x20a33ba4588>"
      ]
     },
     "metadata": {
      "needs_background": "light"
     },
     "output_type": "display_data"
    }
   ],
   "source": [
    "plt.scatter(final_ag_hour_mean['% Silica Feed'],final_ag_hour_mean['% Iron Concentrate'])"
   ]
  },
  {
   "cell_type": "code",
   "execution_count": 12,
   "metadata": {},
   "outputs": [
    {
     "data": {
      "text/plain": [
       "<matplotlib.collections.PathCollection at 0x20a35108cf8>"
      ]
     },
     "execution_count": 12,
     "metadata": {},
     "output_type": "execute_result"
    },
    {
     "data": {
      "image/png": "[encoded data removed]",
      "text/plain": [
       "<matplotlib.figure.Figure at 0x20a34edee48>"
      ]
     },
     "metadata": {
      "needs_background": "light"
     },
     "output_type": "display_data"
    }
   ],
   "source": [
    "plt.scatter(final_ag_hour_mean['% Silica Feed'],final_ag_hour_mean['% Silica Concentrate'])"
   ]
  },
  {
   "cell_type": "code",
   "execution_count": 34,
   "metadata": {},
   "outputs": [
    {
     "data": {
      "text/plain": [
       "<matplotlib.collections.PathCollection at 0x20a37507a58>"
      ]
     },
     "execution_count": 34,
     "metadata": {},
     "output_type": "execute_result"
    },
    {
     "data": {
      "image/png": "[encoded data removed]",
      "text/plain": [
       "<matplotlib.figure.Figure at 0x20a37493320>"
      ]
     },
     "metadata": {
      "needs_background": "light"
     },
     "output_type": "display_data"
    }
   ],
   "source": [
    "#Hourly aggregate scatter Plot of Silicon feed and \n",
    "art=final_ag_hour_mean['% Iron Feed']\n",
    "lag=1\n",
    "\n",
    "chk=final_ag_hour_mean.shape\n",
    "\n",
    "plt.scatter(final_ag_hour_mean['% Iron Concentrate'][lag:],\n",
    "            art[:(chk[0]-lag)])\n",
    "\n",
    "#final_ag_hour_mean['% Silica Feed']\n"
   ]
  },
  {
   "cell_type": "code",
   "execution_count": 16,
   "metadata": {},
   "outputs": [
    {
     "data": {
      "text/html": [
       "<div>\n",
       "<style scoped>\n",
       "    .dataframe tbody tr th:only-of-type {\n",
       "        vertical-align: middle;\n",
       "    }\n",
       "\n",
       "    .dataframe tbody tr th {\n",
       "        vertical-align: top;\n",
       "    }\n",
       "\n",
       "    .dataframe thead th {\n",
       "        text-align: right;\n",
       "    }\n",
       "</style>\n",
       "<table border=\"1\" class=\"dataframe\">\n",
       "  <thead>\n",
       "    <tr style=\"text-align: right;\">\n",
       "      <th></th>\n",
       "      <th>date_orig</th>\n",
       "      <th>% Iron Feed</th>\n",
       "      <th>% Silica Feed</th>\n",
       "      <th>Starch Flow</th>\n",
       "      <th>Amina Flow</th>\n",
       "      <th>Ore Pulp Flow</th>\n",
       "      <th>Ore Pulp pH</th>\n",
       "      <th>Ore Pulp Density</th>\n",
       "      <th>Flotation Column 01 Air Flow</th>\n",
       "      <th>Flotation Column 02 Air Flow</th>\n",
       "      <th>Flotation Column 03 Air Flow</th>\n",
       "      <th>Flotation Column 04 Air Flow</th>\n",
       "      <th>Flotation Column 05 Air Flow</th>\n",
       "      <th>Flotation Column 06 Air Flow</th>\n",
       "      <th>Flotation Column 07 Air Flow</th>\n",
       "      <th>Flotation Column 01 Level</th>\n",
       "      <th>Flotation Column 02 Level</th>\n",
       "      <th>Flotation Column 03 Level</th>\n",
       "      <th>Flotation Column 04 Level</th>\n",
       "      <th>Flotation Column 05 Level</th>\n",
       "      <th>Flotation Column 06 Level</th>\n",
       "      <th>Flotation Column 07 Level</th>\n",
       "      <th>% Iron Concentrate</th>\n",
       "      <th>% Silica Concentrate</th>\n",
       "      <th>%_Iron_gained</th>\n",
       "      <th>%_Silica_removed</th>\n",
       "      <th>Starch Flowdiff_val1</th>\n",
       "      <th>Starch Flowdiff_val30</th>\n",
       "      <th>Amina Flowdiff_val1</th>\n",
       "      <th>Amina Flowdiff_val30</th>\n",
       "      <th>Ore Pulp Flowdiff_val1</th>\n",
       "      <th>Ore Pulp Flowdiff_val30</th>\n",
       "      <th>Ore Pulp pHdiff_val1</th>\n",
       "      <th>Ore Pulp pHdiff_val30</th>\n",
       "      <th>Ore Pulp Densitydiff_val1</th>\n",
       "      <th>Ore Pulp Densitydiff_val30</th>\n",
       "    </tr>\n",
       "  </thead>\n",
       "  <tbody>\n",
       "    <tr>\n",
       "      <th>0</th>\n",
       "      <td>2017-03-10 01:00:00</td>\n",
       "      <td>55.2</td>\n",
       "      <td>16.98</td>\n",
       "      <td>3162.625023</td>\n",
       "      <td>578.786678</td>\n",
       "      <td>398.753368</td>\n",
       "      <td>10.113489</td>\n",
       "      <td>1.729546</td>\n",
       "      <td>251.166672</td>\n",
       "      <td>250.226086</td>\n",
       "      <td>250.178287</td>\n",
       "      <td>295.096</td>\n",
       "      <td>306.4</td>\n",
       "      <td>251.232529</td>\n",
       "      <td>250.208184</td>\n",
       "      <td>450.383776</td>\n",
       "      <td>446.891845</td>\n",
       "      <td>450.474523</td>\n",
       "      <td>449.912259</td>\n",
       "      <td>455.792161</td>\n",
       "      <td>464.383310</td>\n",
       "      <td>450.532747</td>\n",
       "      <td>66.91</td>\n",
       "      <td>1.31</td>\n",
       "      <td>11.71</td>\n",
       "      <td>15.67</td>\n",
       "      <td>NaN</td>\n",
       "      <td>NaN</td>\n",
       "      <td>NaN</td>\n",
       "      <td>NaN</td>\n",
       "      <td>NaN</td>\n",
       "      <td>NaN</td>\n",
       "      <td>NaN</td>\n",
       "      <td>NaN</td>\n",
       "      <td>NaN</td>\n",
       "      <td>NaN</td>\n",
       "    </tr>\n",
       "    <tr>\n",
       "      <th>1</th>\n",
       "      <td>2017-03-10 02:00:00</td>\n",
       "      <td>55.2</td>\n",
       "      <td>16.98</td>\n",
       "      <td>3133.256389</td>\n",
       "      <td>537.219661</td>\n",
       "      <td>399.871822</td>\n",
       "      <td>10.129800</td>\n",
       "      <td>1.667806</td>\n",
       "      <td>249.880589</td>\n",
       "      <td>250.214050</td>\n",
       "      <td>250.033317</td>\n",
       "      <td>295.096</td>\n",
       "      <td>306.4</td>\n",
       "      <td>249.909494</td>\n",
       "      <td>249.897572</td>\n",
       "      <td>449.373361</td>\n",
       "      <td>450.249356</td>\n",
       "      <td>450.081222</td>\n",
       "      <td>450.328806</td>\n",
       "      <td>448.722983</td>\n",
       "      <td>455.501528</td>\n",
       "      <td>451.387700</td>\n",
       "      <td>67.06</td>\n",
       "      <td>1.11</td>\n",
       "      <td>11.86</td>\n",
       "      <td>15.87</td>\n",
       "      <td>-29.368634</td>\n",
       "      <td>NaN</td>\n",
       "      <td>-41.567017</td>\n",
       "      <td>NaN</td>\n",
       "      <td>1.118454</td>\n",
       "      <td>NaN</td>\n",
       "      <td>0.016311</td>\n",
       "      <td>NaN</td>\n",
       "      <td>-0.061740</td>\n",
       "      <td>NaN</td>\n",
       "    </tr>\n",
       "    <tr>\n",
       "      <th>2</th>\n",
       "      <td>2017-03-10 03:00:00</td>\n",
       "      <td>55.2</td>\n",
       "      <td>16.98</td>\n",
       "      <td>3479.482944</td>\n",
       "      <td>591.906744</td>\n",
       "      <td>398.763806</td>\n",
       "      <td>10.048417</td>\n",
       "      <td>1.732706</td>\n",
       "      <td>250.161328</td>\n",
       "      <td>250.104167</td>\n",
       "      <td>250.046350</td>\n",
       "      <td>295.096</td>\n",
       "      <td>306.4</td>\n",
       "      <td>250.242161</td>\n",
       "      <td>250.484183</td>\n",
       "      <td>449.972878</td>\n",
       "      <td>450.868711</td>\n",
       "      <td>450.901822</td>\n",
       "      <td>451.145822</td>\n",
       "      <td>451.134189</td>\n",
       "      <td>459.981311</td>\n",
       "      <td>450.296722</td>\n",
       "      <td>66.97</td>\n",
       "      <td>1.27</td>\n",
       "      <td>11.77</td>\n",
       "      <td>15.71</td>\n",
       "      <td>346.226556</td>\n",
       "      <td>NaN</td>\n",
       "      <td>54.687083</td>\n",
       "      <td>NaN</td>\n",
       "      <td>-1.108017</td>\n",
       "      <td>NaN</td>\n",
       "      <td>-0.081383</td>\n",
       "      <td>NaN</td>\n",
       "      <td>0.064900</td>\n",
       "      <td>NaN</td>\n",
       "    </tr>\n",
       "    <tr>\n",
       "      <th>3</th>\n",
       "      <td>2017-03-10 04:00:00</td>\n",
       "      <td>55.2</td>\n",
       "      <td>16.98</td>\n",
       "      <td>3228.036433</td>\n",
       "      <td>593.170106</td>\n",
       "      <td>399.866983</td>\n",
       "      <td>9.918650</td>\n",
       "      <td>1.731061</td>\n",
       "      <td>250.208772</td>\n",
       "      <td>250.204761</td>\n",
       "      <td>250.120861</td>\n",
       "      <td>295.096</td>\n",
       "      <td>306.4</td>\n",
       "      <td>249.825122</td>\n",
       "      <td>250.157622</td>\n",
       "      <td>487.940706</td>\n",
       "      <td>491.462111</td>\n",
       "      <td>487.387206</td>\n",
       "      <td>494.528183</td>\n",
       "      <td>495.664011</td>\n",
       "      <td>502.763850</td>\n",
       "      <td>494.939889</td>\n",
       "      <td>66.75</td>\n",
       "      <td>1.36</td>\n",
       "      <td>11.55</td>\n",
       "      <td>15.62</td>\n",
       "      <td>-251.446511</td>\n",
       "      <td>NaN</td>\n",
       "      <td>1.263361</td>\n",
       "      <td>NaN</td>\n",
       "      <td>1.103178</td>\n",
       "      <td>NaN</td>\n",
       "      <td>-0.129767</td>\n",
       "      <td>NaN</td>\n",
       "      <td>-0.001644</td>\n",
       "      <td>NaN</td>\n",
       "    </tr>\n",
       "    <tr>\n",
       "      <th>4</th>\n",
       "      <td>2017-03-10 05:00:00</td>\n",
       "      <td>55.2</td>\n",
       "      <td>16.98</td>\n",
       "      <td>3327.280739</td>\n",
       "      <td>619.710806</td>\n",
       "      <td>399.615089</td>\n",
       "      <td>9.746039</td>\n",
       "      <td>1.765878</td>\n",
       "      <td>249.917800</td>\n",
       "      <td>250.160494</td>\n",
       "      <td>250.013500</td>\n",
       "      <td>295.096</td>\n",
       "      <td>306.4</td>\n",
       "      <td>250.249600</td>\n",
       "      <td>250.078639</td>\n",
       "      <td>549.031539</td>\n",
       "      <td>549.983156</td>\n",
       "      <td>549.459572</td>\n",
       "      <td>549.975483</td>\n",
       "      <td>549.512533</td>\n",
       "      <td>560.696300</td>\n",
       "      <td>550.271772</td>\n",
       "      <td>66.63</td>\n",
       "      <td>1.34</td>\n",
       "      <td>11.43</td>\n",
       "      <td>15.64</td>\n",
       "      <td>99.244306</td>\n",
       "      <td>NaN</td>\n",
       "      <td>26.540700</td>\n",
       "      <td>NaN</td>\n",
       "      <td>-0.251894</td>\n",
       "      <td>NaN</td>\n",
       "      <td>-0.172611</td>\n",
       "      <td>NaN</td>\n",
       "      <td>0.034817</td>\n",
       "      <td>NaN</td>\n",
       "    </tr>\n",
       "  </tbody>\n",
       "</table>\n",
       "</div>"
      ],
      "text/plain": [
       "            date_orig  % Iron Feed  % Silica Feed  Starch Flow  Amina Flow  \\\n",
       "0 2017-03-10 01:00:00         55.2          16.98  3162.625023  578.786678   \n",
       "1 2017-03-10 02:00:00         55.2          16.98  3133.256389  537.219661   \n",
       "2 2017-03-10 03:00:00         55.2          16.98  3479.482944  591.906744   \n",
       "3 2017-03-10 04:00:00         55.2          16.98  3228.036433  593.170106   \n",
       "4 2017-03-10 05:00:00         55.2          16.98  3327.280739  619.710806   \n",
       "\n",
       "   Ore Pulp Flow  Ore Pulp pH  Ore Pulp Density  Flotation Column 01 Air Flow  \\\n",
       "0     398.753368    10.113489          1.729546                    251.166672   \n",
       "1     399.871822    10.129800          1.667806                    249.880589   \n",
       "2     398.763806    10.048417          1.732706                    250.161328   \n",
       "3     399.866983     9.918650          1.731061                    250.208772   \n",
       "4     399.615089     9.746039          1.765878                    249.917800   \n",
       "\n",
       "   Flotation Column 02 Air Flow  Flotation Column 03 Air Flow  \\\n",
       "0                    250.226086                    250.178287   \n",
       "1                    250.214050                    250.033317   \n",
       "2                    250.104167                    250.046350   \n",
       "3                    250.204761                    250.120861   \n",
       "4                    250.160494                    250.013500   \n",
       "\n",
       "   Flotation Column 04 Air Flow  Flotation Column 05 Air Flow  \\\n",
       "0                       295.096                         306.4   \n",
       "1                       295.096                         306.4   \n",
       "2                       295.096                         306.4   \n",
       "3                       295.096                         306.4   \n",
       "4                       295.096                         306.4   \n",
       "\n",
       "   Flotation Column 06 Air Flow  Flotation Column 07 Air Flow  \\\n",
       "0                    251.232529                    250.208184   \n",
       "1                    249.909494                    249.897572   \n",
       "2                    250.242161                    250.484183   \n",
       "3                    249.825122                    250.157622   \n",
       "4                    250.249600                    250.078639   \n",
       "\n",
       "   Flotation Column 01 Level  Flotation Column 02 Level  \\\n",
       "0                 450.383776                 446.891845   \n",
       "1                 449.373361                 450.249356   \n",
       "2                 449.972878                 450.868711   \n",
       "3                 487.940706                 491.462111   \n",
       "4                 549.031539                 549.983156   \n",
       "\n",
       "   Flotation Column 03 Level  Flotation Column 04 Level  \\\n",
       "0                 450.474523                 449.912259   \n",
       "1                 450.081222                 450.328806   \n",
       "2                 450.901822                 451.145822   \n",
       "3                 487.387206                 494.528183   \n",
       "4                 549.459572                 549.975483   \n",
       "\n",
       "   Flotation Column 05 Level  Flotation Column 06 Level  \\\n",
       "0                 455.792161                 464.383310   \n",
       "1                 448.722983                 455.501528   \n",
       "2                 451.134189                 459.981311   \n",
       "3                 495.664011                 502.763850   \n",
       "4                 549.512533                 560.696300   \n",
       "\n",
       "   Flotation Column 07 Level  % Iron Concentrate  % Silica Concentrate  \\\n",
       "0                 450.532747               66.91                  1.31   \n",
       "1                 451.387700               67.06                  1.11   \n",
       "2                 450.296722               66.97                  1.27   \n",
       "3                 494.939889               66.75                  1.36   \n",
       "4                 550.271772               66.63                  1.34   \n",
       "\n",
       "   %_Iron_gained  %_Silica_removed  Starch Flowdiff_val1  \\\n",
       "0          11.71             15.67                   NaN   \n",
       "1          11.86             15.87            -29.368634   \n",
       "2          11.77             15.71            346.226556   \n",
       "3          11.55             15.62           -251.446511   \n",
       "4          11.43             15.64             99.244306   \n",
       "\n",
       "   Starch Flowdiff_val30  Amina Flowdiff_val1  Amina Flowdiff_val30  \\\n",
       "0                    NaN                  NaN                   NaN   \n",
       "1                    NaN           -41.567017                   NaN   \n",
       "2                    NaN            54.687083                   NaN   \n",
       "3                    NaN             1.263361                   NaN   \n",
       "4                    NaN            26.540700                   NaN   \n",
       "\n",
       "   Ore Pulp Flowdiff_val1  Ore Pulp Flowdiff_val30  Ore Pulp pHdiff_val1  \\\n",
       "0                     NaN                      NaN                   NaN   \n",
       "1                1.118454                      NaN              0.016311   \n",
       "2               -1.108017                      NaN             -0.081383   \n",
       "3                1.103178                      NaN             -0.129767   \n",
       "4               -0.251894                      NaN             -0.172611   \n",
       "\n",
       "   Ore Pulp pHdiff_val30  Ore Pulp Densitydiff_val1  \\\n",
       "0                    NaN                        NaN   \n",
       "1                    NaN                  -0.061740   \n",
       "2                    NaN                   0.064900   \n",
       "3                    NaN                  -0.001644   \n",
       "4                    NaN                   0.034817   \n",
       "\n",
       "   Ore Pulp Densitydiff_val30  \n",
       "0                         NaN  \n",
       "1                         NaN  \n",
       "2                         NaN  \n",
       "3                         NaN  \n",
       "4                         NaN  "
      ]
     },
     "execution_count": 16,
     "metadata": {},
     "output_type": "execute_result"
    }
   ],
   "source": [
    "final_ag_hour_mean.head()"
   ]
  },
  {
   "cell_type": "code",
   "execution_count": null,
   "metadata": {},
   "outputs": [],
   "source": [
    "plt.scatter(final_ag_hour_mean['% Silica Feed'],final_ag_hour_mean['% Silica Concentrate'])"
   ]
  },
  {
   "cell_type": "code",
   "execution_count": null,
   "metadata": {},
   "outputs": [],
   "source": [
    "#Histograms of aggregate data \n",
    "\n",
    "for cols in final_ag_hour_mean.columns:\n",
    "    #print('Down the try route')\n",
    "    temp_title=''\n",
    "    temp_title=cols+'hour_aggregate_histogram'\n",
    "    \n",
    "    final_ag_hour_mean[cols].hist(figsize=(20,10))\n",
    "    \n",
    "    fintemp=''\n",
    "    fintemp = cols.translate(str.maketrans('','',string.punctuation))\n",
    "    #fintemp = fintemp.translate(str.maketrans('','','1234567890'))\n",
    "    fintemp=fintemp+'_histogram_'\n",
    "    fintemp=fintemp.replace(' ','_')\n",
    "    fintemp=fintemp+'.png'\n",
    "    ax=plt.gcf()\n",
    "    \n",
    "    ax.savefig(fintemp)\n",
    "    \n",
    "    plt.clf()"
   ]
  },
  {
   "cell_type": "code",
   "execution_count": null,
   "metadata": {},
   "outputs": [],
   "source": [
    "#Plotting most likely correlatoin against each other to determine any visual correlation of any sort\n",
    "for cols in final_ag_hour_mean.columns[25:]:\n",
    "    \n",
    "    plt.figure()\n",
    "    plt.scatter(final_ag_hour_mean[cols],final_ag_hour_mean['% Iron Concentrate'],color='r')\n",
    "    plt.figsize=(20,10)\n",
    "    plt.xlabel(cols)\n",
    "    plt.ylabel('% Iron Concentrate')\n",
    "    figurename=\n",
    "    \n",
    "    plt.figure()\n",
    "    plt.scatter(final_ag_hour_mean[cols],final_ag_hour_mean['% Silica Concentrate'],color='cyan')\n",
    "    plt.figsize=(20,10)\n",
    "    plt.xlabel(cols)\n",
    "    plt.ylabel('% Silica Concentrate')\n",
    "    \n",
    "    plt.figure()\n",
    "    plt.scatter(final_ag_hour_mean[cols],final_ag_hour_mean['%_Iron_gained'],color='green')\n",
    "    plt.figsize=(20,10)\n",
    "    plt.xlabel(cols)\n",
    "    plt.ylabel('%_Iron_gained')\n",
    "    \n",
    "    plt.figure()\n",
    "    plt.scatter(final_ag_hour_mean[cols],final_ag_hour_mean['%_Silica_removed'],color='blue')\n",
    "    plt.figsize=(20,10)\n",
    "    plt.xlabel(cols)\n",
    "    plt.ylabel('%_Silica_removed')\n",
    "    \n",
    "    \n",
    "    \n",
    "    \n",
    "    \n",
    "    \n",
    "    \n",
    "    \n",
    "    "
   ]
  },
  {
   "cell_type": "code",
   "execution_count": null,
   "metadata": {},
   "outputs": [],
   "source": [
    "## Shifting data forward in order to deerine the "
   ]
  },
  {
   "cell_type": "code",
   "execution_count": null,
   "metadata": {},
   "outputs": [],
   "source": [
    "final_ag_hour_mean.columns[25:]"
   ]
  },
  {
   "cell_type": "code",
   "execution_count": null,
   "metadata": {},
   "outputs": [],
   "source": [
    "cln=[1,2,3,4,5,6,8,10,12,14,18]\n",
    "\n",
    "for vals in cln:\n",
    "    \n",
    "\n",
    "    for cols in final_ag_hour_mean.columns[29:]:\n",
    "        \n",
    "        temp=final_ag_hour_mean['%_Silica_removed']#.shift(vals) #\n",
    "        #temp.dropna(inplace=True)\n",
    "\n",
    "        tryp=final_ag_hour_mean[cols].shape\n",
    "        print((tryp[0]-vals))\n",
    "        plt.figure()\n",
    "        plt.scatter(final_ag_hour_mean[cols][:(tryp[0]-vals)], temp[vals:])\n",
    "        strtemp='%_Silica_removed'+cols+'lagged'+str(vals)\n",
    "        plt.title(strtemp)\n",
    "        \n",
    "        figname=strtemp+'.png'\n",
    "        plt.savefig(figname)\n",
    "        plt.clf()"
   ]
  },
  {
   "cell_type": "code",
   "execution_count": null,
   "metadata": {},
   "outputs": [],
   "source": [
    "#Non aggregated data plot of clusters of data air flow rate vs column level. \n",
    "cln=[1,2,3,4,5,6,8,10,12,14,18]\n",
    "\n",
    "for vals in cln:\n",
    "    \n",
    "\n",
    "    for cols in final_real.columns[29:]:\n",
    "        \n",
    "        temp=final_real['%_Silica_removed']#.shift(vals) #\n",
    "        #temp.dropna(inplace=True)\n",
    "\n",
    "        tryp=final_real[cols].shape\n",
    "        print((tryp[0]-vals))\n",
    "        plt.figure()\n",
    "        plt.scatter(final_real[cols][:(tryp[0]-vals)], temp[vals:])\n",
    "        strtemp='%_Silica_removed'+cols+'lagged'+str(vals)\n",
    "        plt.title(strtemp)\n",
    "        \n",
    "        figname=strtemp+'.png'\n",
    "        plt.savefig(figname)\n",
    "        plt.clf()"
   ]
  },
  {
   "cell_type": "markdown",
   "metadata": {},
   "source": [
    "# Exploratory data analysis "
   ]
  },
  {
   "cell_type": "markdown",
   "metadata": {},
   "source": [
    "## Data set relating to input feed correlation to each other "
   ]
  },
  {
   "cell_type": "code",
   "execution_count": null,
   "metadata": {},
   "outputs": [],
   "source": [
    "#Output feeds distribution of concentrations\n",
    "\n",
    "print('HISTOGRAMS DISTRIBUTIONS OF OUTPUT STREAM INPUTS')\n",
    "final_real.hist(column=['% Iron Concentrate','% Silica Concentrate'],figsize=[10,10])"
   ]
  },
  {
   "cell_type": "code",
   "execution_count": null,
   "metadata": {},
   "outputs": [],
   "source": [
    "#Histograms of output parameters\n",
    "names=final_real.columns\n",
    "names[3:22]\n",
    "final_real.hist(column=names[3:22],figsize=[20,15])"
   ]
  },
  {
   "cell_type": "code",
   "execution_count": null,
   "metadata": {},
   "outputs": [],
   "source": [
    "#plotting iron and silica feed pre and post output \n",
    "\n",
    "#Iron feed distributions \n",
    "fig,ax=plt.subplots(figsize=(20,10))\n",
    "\n",
    "#Inputting histograms \n",
    "ax.hist(mining_df['% Iron Feed'],alpha=0.5,label='Iron input feed %w/w')\n",
    "ax.hist(mining_df['% Iron Concentrate'],alpha=0.5,label='Iron output feed %w/w')\n",
    "ax.legend(loc='upper right',fontsize=15)\n",
    "ax.set_xlabel('% w/w',fontsize=15)\n",
    "ax.set_ylabel('Frequency counts',fontsize=15)\n",
    "\n",
    "plt.show()\n",
    "\n",
    "#Silica feed distributions \n",
    "fig,ax=plt.subplots(figsize=(20,10))\n",
    "\n",
    "#Inputting histograms \n",
    "ax.hist(mining_df['% Silica Feed'],alpha=0.5,label='Silica input feed %w/w')\n",
    "ax.hist(mining_df['% Silica Concentrate'],alpha=0.5,label='Silica output feed %w/w')\n",
    "ax.legend(loc='upper right',fontsize=15)\n",
    "ax.set_xlabel('% w/w',fontsize=15)\n",
    "ax.set_ylabel('Frequency counts',fontsize=15)\n",
    "\n",
    "plt.show()"
   ]
  },
  {
   "cell_type": "code",
   "execution_count": null,
   "metadata": {},
   "outputs": [],
   "source": [
    "#Sepearating main dataframe into pre processing, processing and output streams \n",
    "\n",
    "mining_inputs=mining_df_final[['% Iron Feed', '% Silica Feed', \n",
    "                             'Starch Flow', 'Amina Flow',\n",
    "                            'Ore Pulp Flow', 'Ore Pulp pH',\n",
    "                             'Ore Pulp Density']]\n",
    "\n",
    "mining_outputs=mining_df_final[['% Iron Concentrate',\n",
    "                              '% Silica Concentrate', \n",
    "                              '%_Iron_gained',\n",
    "                               '%_Silica_removed']]\n",
    "\n",
    "\n",
    "#sns.pairplot(mining_inputs)"
   ]
  },
  {
   "cell_type": "code",
   "execution_count": null,
   "metadata": {},
   "outputs": [],
   "source": [
    "final_real.head()date_orig"
   ]
  },
  {
   "cell_type": "markdown",
   "metadata": {},
   "source": [
    "## Analysis on Stationarity and autocorrelation and partial autocorrelation\n",
    "\n",
    "- Stationarity tests performed with Dicker fuller test and KPSS(Kwiatkowski–Phillips–Schmidt–Shin) tests\n",
    "- ACF/PACF plots stored as files "
   ]
  },
  {
   "cell_type": "code",
   "execution_count": null,
   "metadata": {},
   "outputs": [],
   "source": [
    "#iterating through each column and checking for stationarity. \n",
    "\n",
    "for cols in final_real.iloc[:,2:22]:\n",
    "    print(f'Name of Column is: {cols}')\n",
    "    try:\n",
    "        adf_test(final_real[cols])\n",
    "        kpss_test(final_real[cols])\n",
    "    except:\n",
    "        pass\n"
   ]
  },
  {
   "cell_type": "code",
   "execution_count": null,
   "metadata": {},
   "outputs": [],
   "source": [
    "#Iterating and generating autocorrelation for each processing parameter \n",
    "lags=[1,30,360,2160,4320,8640]\n",
    "\n",
    "\n",
    "for cols in final_real.iloc[:,3:]:\n",
    "    print(f'name_col_variable{cols}')\n",
    "    for lag in lags: #iterate through the different lag values in the for loop specified in the lags list and produce ACF plots as a result.\n",
    "        try:\n",
    "            print('Down the try route')\n",
    "            temp_title=''\n",
    "            temp_title=cols+'_PACF_lag_'+str(lag)\n",
    "            tsaplots.plot_pacf(final_real[cols],lags=lag,title=temp_title)\n",
    "\n",
    "            fintemp=''\n",
    "            fintemp = cols.translate(str.maketrans('','',string.punctuation))\n",
    "            fintemp = fintemp.translate(str.maketrans('','','1234567890'))\n",
    "            fintemp=fintemp+'_PACF_lag_'+str(lag)\n",
    "            fintemp=fintemp.replace(' ','_')\n",
    "            fintemp=fintemp+'.png'\n",
    "            print('fintemp value={fintemp}')\n",
    "            \n",
    "            plt.savefig(fintemp)\n",
    "            \n",
    "            #tsaplots.plot_pacf(final_real[cols],lags=lag,title=cols+'-PACF_lag-'+str(lag))           \n",
    "            \n",
    "        except:\n",
    "            pass\n",
    "            "
   ]
  },
  {
   "cell_type": "code",
   "execution_count": null,
   "metadata": {},
   "outputs": [],
   "source": []
  },
  {
   "cell_type": "code",
   "execution_count": null,
   "metadata": {},
   "outputs": [],
   "source": []
  },
  {
   "cell_type": "markdown",
   "metadata": {},
   "source": [
    "## Generate histogram of feed to vessel\n"
   ]
  },
  {
   "cell_type": "code",
   "execution_count": null,
   "metadata": {},
   "outputs": [],
   "source": [
    "#Outlier data vs actual data\n",
    "final_real['% Silica Feed'].hist()\n",
    "final_flat['% Silica Feed'].hist(bins=10)\n",
    "labels=['Quality data','univariate unqualified data']\n",
    "plt.legend(labels)\n",
    "plt.xlabel('% Iron w/w')\n",
    "plt.ylabel('Frequency')"
   ]
  },
  {
   "cell_type": "code",
   "execution_count": null,
   "metadata": {},
   "outputs": [],
   "source": [
    "#Outlier data vs actual data\n",
    "final_real['% Iron Feed'].hist(bins=10)\n",
    "final_flat['% Iron Feed'].hist(bins=10)\n",
    "labels=['Quality data','univariate unqualified data']\n",
    "plt.legend(labels)\n",
    "plt.xlabel('% Iron w/w')\n",
    "plt.ylabel('Frequency')"
   ]
  },
  {
   "cell_type": "code",
   "execution_count": null,
   "metadata": {},
   "outputs": [],
   "source": [
    "#Visibility of entire dataset \n",
    "mining_df_final['% Silica Feed'].plot(figsize=(20,10),color='cyan')\n",
    "plt.title('% Silica Feed Overall Time Series',fontsize=15)\n",
    "plt.ylabel('% Silica Feed',fontsize=15)\n",
    "plt.xlabel('Date time',fontsize=15)"
   ]
  },
  {
   "cell_type": "code",
   "execution_count": null,
   "metadata": {},
   "outputs": [],
   "source": [
    "#Visibility of entire dataset \n",
    "mining_df_final['% Iron Feed'].plot(figsize=(20,10))\n",
    "plt.title('% Iron Feed Overall Time Series',fontsize=15)\n",
    "plt.ylabel('% Iron Feed',fontsize=15)\n",
    "plt.xlabel('Date time',fontsize=15)"
   ]
  },
  {
   "cell_type": "markdown",
   "metadata": {},
   "source": [
    "## Data with respect to froth flotation collectors,depressants etc "
   ]
  },
  {
   "cell_type": "code",
   "execution_count": null,
   "metadata": {},
   "outputs": [],
   "source": [
    "#Visibility of entire dataset \n",
    "final_real['Starch Flow'].plot(figsize=(20,10))\n",
    "plt.title('Starch_Flow Overall Time Series',fontsize=15)\n",
    "plt.ylabel('Starch Flow in m^3/h',fontsize=15)\n",
    "plt.xlabel('Date time',fontsize=15)"
   ]
  },
  {
   "cell_type": "code",
   "execution_count": null,
   "metadata": {},
   "outputs": [],
   "source": [
    "#Visibility of entire dataset \n",
    "final_real['Starch Flow'][30000:35000].plot(figsize=(20,10))\n",
    "plt.title('Starch_Flow Overall Time Series',fontsize=15)\n",
    "plt.ylabel('Starch Flow in m^3/h',fontsize=15)\n",
    "plt.xlabel('Date time',fontsize=15)"
   ]
  },
  {
   "cell_type": "code",
   "execution_count": null,
   "metadata": {},
   "outputs": [],
   "source": [
    "#Visibility of entire dataset \n",
    "\n",
    "\n",
    "final_real['Amina Flow'].plot(figsize=(20,10),color='red',alpha=0.5)\n",
    "plt.title('Amina Flow Overall Time Series',fontsize=15)\n",
    "plt.ylabel('Amina Flow in m^3/h',fontsize=15)\n",
    "plt.xlabel('Date time',fontsize=15)"
   ]
  },
  {
   "cell_type": "code",
   "execution_count": null,
   "metadata": {},
   "outputs": [],
   "source": [
    "final_real['Amina Flow'][30000:35000].plot(figsize=(20,10),color='red',alpha=0.5)\n",
    "plt.title('Amina Flow Overall Time Series',fontsize=15)\n",
    "plt.ylabel('Amina Flow in m^3/h',fontsize=15)\n",
    "plt.xlabel('Date time',fontsize=15)"
   ]
  },
  {
   "cell_type": "code",
   "execution_count": null,
   "metadata": {},
   "outputs": [],
   "source": [
    "#Plot time series data of Iron and silica feed to other outputs to determine tuning if occuring \n",
    "\n",
    "final_real['Ore Pulp Flow'].plot(figsize=(20,10),color='green',ylim=(300,420))\n",
    "plt.title('Ore Pulp Flow Overall Time Series',fontsize=15)\n",
    "plt.ylabel('Ore Pulp in t/h',fontsize=15)\n",
    "plt.xlabel('Date time',fontsize=15)\n",
    "#plt.ylim(360,430)"
   ]
  },
  {
   "cell_type": "code",
   "execution_count": null,
   "metadata": {},
   "outputs": [],
   "source": [
    "\n",
    "final_real['Ore Pulp Flow'][30000:35000].plot(figsize=(20,10),color='green')\n",
    "plt.title('Ore Pulp Flow snapshot Time Series',fontsize=15)\n",
    "plt.ylabel('Ore Pulp in t/h',fontsize=15)\n",
    "plt.xlabel('Date time',fontsize=15)"
   ]
  },
  {
   "cell_type": "code",
   "execution_count": null,
   "metadata": {},
   "outputs": [],
   "source": [
    "#Iron ore Pulp pH time series raw \n",
    "final_real['Ore Pulp pH'].plot(figsize=(20,10),color='blue')\n",
    "plt.title('Ore Pulp pH Overall Time Series',fontsize=15)\n",
    "plt.ylabel('Ore Pulp pH',fontsize=15)\n",
    "plt.xlabel('Date time',fontsize=15)\n",
    "#plt.ylim(360,430)"
   ]
  },
  {
   "cell_type": "code",
   "execution_count": null,
   "metadata": {},
   "outputs": [],
   "source": [
    "#Iron ore Pulp pH time series raw \n",
    "final_real['Ore Pulp pH'][30000:35000].plot(figsize=(20,10),color='blue')\n",
    "plt.title('Ore Pulp pH Snapshot Time Series',fontsize=15)\n",
    "plt.ylabel('Ore Pulp pH',fontsize=15)\n",
    "plt.xlabel('Date time',fontsize=15)\n",
    "#plt.ylim(360,430)"
   ]
  },
  {
   "cell_type": "code",
   "execution_count": null,
   "metadata": {},
   "outputs": [],
   "source": [
    "#Iron ore Pulp pH time series raw \n",
    "final_real['Ore Pulp Density'].plot(figsize=(20,10),color='black')\n",
    "plt.title('Ore Pulp density Overall Time Series',fontsize=15)\n",
    "plt.ylabel('Ore Pulp Density in kg/m^3',fontsize=15)\n",
    "plt.xlabel('Date time',fontsize=15)\n",
    "#plt.ylim(360,430)"
   ]
  },
  {
   "cell_type": "code",
   "execution_count": null,
   "metadata": {},
   "outputs": [],
   "source": [
    "#Iron ore Pulp pH time series raw \n",
    "final_real['Ore Pulp Density'][30000:35000].plot(figsize=(20,10),color='black')\n",
    "plt.title('Ore Pulp density Snapshot Time Series',fontsize=15)\n",
    "plt.ylabel('Ore Pulp Density in kg/m^3',fontsize=15)\n",
    "plt.xlabel('Date time',fontsize=15)"
   ]
  },
  {
   "cell_type": "code",
   "execution_count": null,
   "metadata": {},
   "outputs": [],
   "source": [
    "print('HISTOGRAMS DISTRIBUTIONS OF OUTPUT STREAM INPUTS')\n",
    "mining_df.hist(column=['%_Iron_gained','%_Silica_removed'],figsize=[20,10])\n"
   ]
  },
  {
   "cell_type": "markdown",
   "metadata": {},
   "source": [
    "## Plot of differencing approaches of un aggregated data set trend"
   ]
  },
  {
   "cell_type": "code",
   "execution_count": null,
   "metadata": {},
   "outputs": [],
   "source": [
    "#Iterating through and generating plots of different differncing of vaues\n",
    "\n",
    "lags=[1,30]\n",
    "\n",
    "for cols in final_real.columns[3:22]: #iterating through each column to assess detrending and removing seasonality \n",
    "    \n",
    "    columns_name=cols\n",
    "    \n",
    "    for lag in lags:\n",
    "        \n",
    "        column_name=cols+'diff_val'+str(lag)\n",
    "        #figname1=column_name+'.png'\n",
    "        \n",
    "        final_real[column_name]=final_real[cols].diff(lag)\n",
    "        #plt.figure(figsize=(20,10)) #Plotting column to determine if pattern has been detrended and seasonality removed\n",
    "        #fig1=final_real[column_name].plot()\n",
    "        #final_real[column_name].dropna(inplace=True)\n",
    "        #fig2=tsaplots.plot_acf(final_real[column_name],lags=30)\n",
    "        \n",
    "        \n",
    "        "
   ]
  },
  {
   "cell_type": "code",
   "execution_count": null,
   "metadata": {},
   "outputs": [],
   "source": []
  },
  {
   "cell_type": "code",
   "execution_count": null,
   "metadata": {},
   "outputs": [],
   "source": [
    "trn=final_real.columns\n",
    "trn"
   ]
  },
  {
   "cell_type": "code",
   "execution_count": null,
   "metadata": {},
   "outputs": [],
   "source": [
    "#Iterating and generating autocorrelation for each processing parameter \n",
    "lags=[30]\n",
    "\n",
    "\n",
    "for cols in final_real.iloc[:,26:]:\n",
    "    print(f'name_col_variable{cols}')\n",
    "    for lag in lags: #iterate through the different lag values in the for loop specified in the lags list and produce ACF plots as a result.\n",
    "        try:\n",
    "            print('Down the try route')\n",
    "            temp_title=''\n",
    "            temp_title=cols+'_ACF_lag_'+str(lag)\n",
    "            \n",
    "            final_real[cols].dropna(inplace=True)\n",
    "            \n",
    "            tsaplots.plot_acf(final_real[cols],lags=lag,title=temp_title)\n",
    "\n",
    "            fintemp=''\n",
    "            fintemp = cols.translate(str.maketrans('','',string.punctuation))\n",
    "            #fintemp = fintemp.translate(str.maketrans('','','1234567890'))\n",
    "            fintemp=fintemp+'_ACF_lag_'+str(lag)\n",
    "            fintemp=fintemp.replace(' ','_')\n",
    "            fintemp=fintemp+'.png'\n",
    "            print(f'fintemp value={fintemp}')\n",
    "            \n",
    "            plt.savefig(fintemp)\n",
    "            \n",
    "            #tsaplots.plot_pacf(final_real[cols],lags=lag,title=cols+'-PACF_lag-'+str(lag))           \n",
    "            \n",
    "        except:\n",
    "            pass\n",
    "            "
   ]
  },
  {
   "cell_type": "code",
   "execution_count": null,
   "metadata": {},
   "outputs": [],
   "source": [
    "#final_real['SilicaConc_diff1']=final_real['% Silica Concentrate'].diff(1)"
   ]
  },
  {
   "cell_type": "code",
   "execution_count": null,
   "metadata": {},
   "outputs": [],
   "source": [
    "trial1=final_real['% Silica Concentrate'].groupby(final_real.index.hour).mean()\n",
    "trial3=trial1.diff(1)\n",
    "trial3"
   ]
  },
  {
   "cell_type": "code",
   "execution_count": null,
   "metadata": {},
   "outputs": [],
   "source": [
    "plt.plot(trial1)"
   ]
  },
  {
   "cell_type": "code",
   "execution_count": null,
   "metadata": {},
   "outputs": [],
   "source": [
    "trial1.shape"
   ]
  },
  {
   "cell_type": "code",
   "execution_count": null,
   "metadata": {},
   "outputs": [],
   "source": [
    "plt.plot(trial2)"
   ]
  },
  {
   "cell_type": "code",
   "execution_count": null,
   "metadata": {},
   "outputs": [],
   "source": [
    "trial2=final_real['Starch Flowdiff_val1'].groupby(final_real.index.hour).mean()\n",
    "trial2.shape"
   ]
  },
  {
   "cell_type": "code",
   "execution_count": null,
   "metadata": {},
   "outputs": [],
   "source": [
    "plt.scatter(trial2,trial3)\n",
    "#plt.ylim(-0.005,0.005)"
   ]
  },
  {
   "cell_type": "code",
   "execution_count": null,
   "metadata": {},
   "outputs": [],
   "source": [
    "trial3.corr(trial2)"
   ]
  },
  {
   "cell_type": "code",
   "execution_count": null,
   "metadata": {},
   "outputs": [],
   "source": []
  },
  {
   "cell_type": "code",
   "execution_count": null,
   "metadata": {},
   "outputs": [],
   "source": []
  },
  {
   "cell_type": "code",
   "execution_count": null,
   "metadata": {},
   "outputs": [],
   "source": []
  },
  {
   "cell_type": "code",
   "execution_count": null,
   "metadata": {},
   "outputs": [],
   "source": [
    "#Droping N/A to confirm that no convulotion of results \n",
    "\n",
    "final_real['Starch Flowlag1'].dropna(inplace=True)\n"
   ]
  },
  {
   "cell_type": "code",
   "execution_count": null,
   "metadata": {},
   "outputs": [],
   "source": [
    "fig=tsaplots.plot_acf(final_real['Starch Flowlag1'],lags=30)\n",
    "\n"
   ]
  },
  {
   "cell_type": "code",
   "execution_count": null,
   "metadata": {},
   "outputs": [],
   "source": [
    "fig.savefig('Autocorre_trial.png')"
   ]
  },
  {
   "cell_type": "code",
   "execution_count": null,
   "metadata": {},
   "outputs": [],
   "source": [
    "adf_test(final_real['Starch Flowlag1'])"
   ]
  },
  {
   "cell_type": "code",
   "execution_count": null,
   "metadata": {},
   "outputs": [],
   "source": [
    "final_real['Starch Flowlag1'].hist()"
   ]
  },
  {
   "cell_type": "code",
   "execution_count": null,
   "metadata": {},
   "outputs": [],
   "source": [
    "ps=np.abs(np.fft.fft(final_real['Starch Flowlag1']))\n",
    "time_step=20\n",
    "freqs=np.fft.fftfreq(final_real['Starch Flowlag1'].size,time_step)\n",
    "\n",
    "idx=np.argsort(freqs)\n",
    "\n",
    "plt.plot(freqs[idx],ps[idx])"
   ]
  },
  {
   "cell_type": "code",
   "execution_count": null,
   "metadata": {},
   "outputs": [],
   "source": []
  },
  {
   "cell_type": "markdown",
   "metadata": {
    "heading_collapsed": true
   },
   "source": [
    "## Smoothing operation using Savitzky-Gorsky low pass filter \n",
    "\n",
    "### Amina Flow smoothing"
   ]
  },
  {
   "cell_type": "code",
   "execution_count": null,
   "metadata": {
    "hidden": true
   },
   "outputs": [],
   "source": [
    "Amina_flow_smooth=savitzky_golay(final_real['Amina Flow'], 549, 6, deriv=0, rate=10)\n",
    "Amina_flow_df=pd.DataFrame(Amina_flow_smooth,columns=['Amina_flow_smooth'],index=final_real.index)\n",
    "final_real=pd.concat([final_real,Amina_flow_df],axis=1)\n",
    "\n",
    "#Determine residuals vs actual value\n",
    "final_real['Amina_flow_Res']=(final_real['Amina Flow']-final_real['Amina_flow_smooth'])\n",
    "final_real['Amina_flow_Res'].sum()"
   ]
  },
  {
   "cell_type": "code",
   "execution_count": null,
   "metadata": {
    "hidden": true
   },
   "outputs": [],
   "source": [
    "#Dropping columns for iteration if necessary\n",
    "final_real.drop(['Amina_flow_smooth','Amina_flow_Res'],inplace=True,axis=1)"
   ]
  },
  {
   "cell_type": "code",
   "execution_count": null,
   "metadata": {
    "hidden": true
   },
   "outputs": [],
   "source": [
    "#Plotting sub sample vs moving average value\n",
    "plt.plot(order[5000:10000],final_real['Amina Flow'][5000:10000])\n",
    "plt.plot(order[5000:10000],final_real['Amina_flow_smooth'][5000:10000],color='r')\n",
    "plt.show()"
   ]
  },
  {
   "cell_type": "code",
   "execution_count": null,
   "metadata": {
    "hidden": true
   },
   "outputs": [],
   "source": [
    "#Plotting sub sample vs moving average value\n",
    "final_real['Amina Flow'][:24500].plot()\n",
    "final_real['Amina_flow_smooth'][:24500].plot()\n",
    "\n",
    "\n",
    "#Flat data set parts\n",
    "#realpt1=mining_df_final.iloc[:24500,:]\n",
    "#realpt2=mining_df_final.iloc[30000:215000,:]\n",
    "#realpt3=mining_df_final.iloc[363000:525000,:]\n",
    "#realpt4=mining_df_final.iloc[580000:590000,:]\n",
    "#realpt5=mining_df_final.iloc[630000:,:]"
   ]
  },
  {
   "cell_type": "code",
   "execution_count": null,
   "metadata": {
    "hidden": true
   },
   "outputs": [],
   "source": [
    "#Plotting sub sample vs moving average value\n",
    "final_real['Amina Flow'][30000:50000].plot()\n",
    "final_real['Amina_flow_smooth'][30000:50000].plot()"
   ]
  },
  {
   "cell_type": "code",
   "execution_count": null,
   "metadata": {
    "hidden": true
   },
   "outputs": [],
   "source": [
    "#Residuals plot of Amina flow#\n",
    "#Please note that AMina flow prob plot S curve suggests all of data in the tailing which denotes outliers have been removed. \n",
    "\n",
    "fig = plt.figure()\n",
    "ax = fig.add_subplot(111)\n",
    "\n",
    "res=scipy.stats.probplot(trial_concat['Amina_flow_Res'], sparams=(), dist='norm', fit=True, plot=ax, rvalue=False)\n",
    "ax.set_title(\"Probplot Amina Flow\")\n",
    "plt.show()"
   ]
  },
  {
   "cell_type": "code",
   "execution_count": null,
   "metadata": {
    "hidden": true
   },
   "outputs": [],
   "source": [
    "#Generating order vs residuals plot to determine if residuals are distributed evenly not necessary for all processes. \n",
    "#As the focus is to remove certain values from teh analysis\n",
    "ars=final_real.shape\n",
    "\n",
    "order=np.arange(0,ars[0])\n",
    "\n",
    "plt.scatter(order[5000:10000],trial_concat['Amina_flow_Res'][5000:10000])"
   ]
  },
  {
   "cell_type": "code",
   "execution_count": null,
   "metadata": {
    "hidden": true
   },
   "outputs": [],
   "source": [
    "#Correlation check Starch flow rate and silica removed\n",
    "plt.scatter(final_real['Amina_flow_smooth'],final_real['%_Silica_removed'])"
   ]
  },
  {
   "cell_type": "code",
   "execution_count": null,
   "metadata": {
    "hidden": true
   },
   "outputs": [],
   "source": [
    "#Correlation check Starch flow rate and silica removed\n",
    "plt.scatter(final_real['Amina_flow_smooth'][:10000],final_real['%_Silica_removed'][:10000])"
   ]
  },
  {
   "cell_type": "code",
   "execution_count": null,
   "metadata": {
    "hidden": true
   },
   "outputs": [],
   "source": [
    "plt.scatter(order,final_real['%_Silica_removed'])"
   ]
  },
  {
   "cell_type": "code",
   "execution_count": null,
   "metadata": {
    "hidden": true
   },
   "outputs": [],
   "source": [
    "plt.scatter(order,final_real['%_Iron_gained'])"
   ]
  },
  {
   "cell_type": "markdown",
   "metadata": {
    "hidden": true
   },
   "source": [
    "### Starch Flowrate "
   ]
  },
  {
   "cell_type": "code",
   "execution_count": null,
   "metadata": {
    "hidden": true
   },
   "outputs": [],
   "source": []
  },
  {
   "cell_type": "code",
   "execution_count": null,
   "metadata": {
    "hidden": true
   },
   "outputs": [],
   "source": [
    "Starch_flow_smooth=savitzky_golay(final_real['Starch Flow'], 401, 4, deriv=0, rate=10)\n",
    "Starch_flow_df=pd.DataFrame(Starch_flow_smooth,columns=['Starch_flow_smooth'],index=final_real.index)\n",
    "final_real=pd.concat([final_real,Starch_flow_df],axis=1)\n",
    "\n",
    "#Determine residuals vs actual value\n",
    "final_real['Starch_flow_Res']=(final_real['Starch Flow']-final_real['Starch_flow_smooth'])\n",
    "final_real['Starch_flow_Res'].sum()"
   ]
  },
  {
   "cell_type": "code",
   "execution_count": null,
   "metadata": {
    "hidden": true
   },
   "outputs": [],
   "source": [
    "#Dropping columns for iteration if necessary\n",
    "final_real.drop(['Starch_flow_smooth','Starch_flow_Res'],inplace=True,axis=1)\n"
   ]
  },
  {
   "cell_type": "code",
   "execution_count": null,
   "metadata": {
    "hidden": true
   },
   "outputs": [],
   "source": []
  },
  {
   "cell_type": "code",
   "execution_count": null,
   "metadata": {
    "hidden": true
   },
   "outputs": [],
   "source": [
    "#Plotting sub sample vs moving average value\n",
    "plt.figure()\n",
    "plt.plot(order[5000:10000],final_real['Starch Flow'][5000:10000])\n",
    "plt.plot(order[5000:10000],final_real['Starch_flow_smooth'][5000:10000],color='r')\n",
    "plt.show()"
   ]
  },
  {
   "cell_type": "code",
   "execution_count": null,
   "metadata": {
    "hidden": true
   },
   "outputs": [],
   "source": [
    "#Residuals plot of Amina flow#\n",
    "#Please note that AMina flow prob plot S curve suggests all of data in the tailing which denotes outliers have been removed. \n",
    "\n",
    "fig = plt.figure()\n",
    "ax = fig.add_subplot(111)\n",
    "\n",
    "res=scipy.stats.probplot(final_real['Starch_flow_Res'], sparams=(), dist='norm', fit=True, plot=ax, rvalue=False)\n",
    "ax.set_title(\"Probplot Starch Flow\")\n",
    "plt.show()"
   ]
  },
  {
   "cell_type": "code",
   "execution_count": null,
   "metadata": {
    "hidden": true
   },
   "outputs": [],
   "source": [
    "#Generating order vs residuals plot to determine if residuals are distributed evenly not necessary for all processes. \n",
    "#As the focus is to remove certain values from teh analysis\n",
    "ars=final_real.shape\n",
    "\n",
    "order=np.arange(0,ars[0])\n",
    "\n",
    "plt.scatter(order[5000:10000],final_real['Starch_flow_Res'][5000:10000])"
   ]
  },
  {
   "cell_type": "code",
   "execution_count": null,
   "metadata": {
    "hidden": true
   },
   "outputs": [],
   "source": [
    "#Correlation check Starch flow rate and silica removed\n",
    "plt.scatter(final_real['Starch Flowdiff_val1'][10000:20000],final_real['%_Silica_removed'][10000:20000])"
   ]
  },
  {
   "cell_type": "code",
   "execution_count": null,
   "metadata": {
    "hidden": true
   },
   "outputs": [],
   "source": [
    "plt.scatter(final_real['Starch_flow_smooth'][20000:30000],final_real['%_Silica_removed'][20000:30000])"
   ]
  },
  {
   "cell_type": "code",
   "execution_count": null,
   "metadata": {
    "hidden": true
   },
   "outputs": [],
   "source": [
    "plt.scatter(final_real['Starch_flow_smooth'][40000:60000],final_real['%_Silica_removed'][40000:60000])"
   ]
  },
  {
   "cell_type": "code",
   "execution_count": null,
   "metadata": {
    "hidden": true
   },
   "outputs": [],
   "source": [
    "plt.scatter(final_real['Starch_flow_smooth'][60000:80000],final_real['%_Silica_removed'][60000:80000])"
   ]
  },
  {
   "cell_type": "code",
   "execution_count": null,
   "metadata": {
    "hidden": true
   },
   "outputs": [],
   "source": []
  },
  {
   "cell_type": "markdown",
   "metadata": {},
   "source": [
    "## Air Flow Rate\n",
    "\n",
    "-Please note the same smoothing function was used for all data sets as idential behaviour was seen in all datasets"
   ]
  },
  {
   "cell_type": "code",
   "execution_count": null,
   "metadata": {},
   "outputs": [],
   "source": []
  },
  {
   "cell_type": "code",
   "execution_count": null,
   "metadata": {},
   "outputs": [],
   "source": []
  },
  {
   "cell_type": "code",
   "execution_count": null,
   "metadata": {},
   "outputs": [],
   "source": []
  },
  {
   "cell_type": "code",
   "execution_count": null,
   "metadata": {},
   "outputs": [],
   "source": []
  },
  {
   "cell_type": "markdown",
   "metadata": {
    "scrolled": true
   },
   "source": [
    "## Correlation between different columns processing parameters "
   ]
  },
  {
   "cell_type": "code",
   "execution_count": null,
   "metadata": {},
   "outputs": [],
   "source": [
    "#reshaping of visualisation to make it easier to interpret \n",
    "processing_parameterstr=mining_df_final[['Flotation Column 01 Air Flow',\n",
    "                                               'Flotation Column 01 Level',\n",
    "                                            'Flotation Column 02 Air Flow',\n",
    "                                               'Flotation Column 02 Level',\n",
    "                                             'Flotation Column 03 Air Flow',\n",
    "                                               'Flotation Column 03 Level',\n",
    "                                               'Flotation Column 04 Air Flow',\n",
    "                                               'Flotation Column 04 Level',\n",
    "                                               'Flotation Column 05 Air Flow',\n",
    "                                               'Flotation Column 05 Level',\n",
    "                                               'Flotation Column 06 Air Flow',\n",
    "                                               'Flotation Column 06 Level', \n",
    "                                               'Flotation Column 07 Air Flow',\n",
    "                                               'Flotation Column 07 Level']]"
   ]
  },
  {
   "cell_type": "code",
   "execution_count": null,
   "metadata": {},
   "outputs": [],
   "source": []
  },
  {
   "cell_type": "code",
   "execution_count": null,
   "metadata": {},
   "outputs": [],
   "source": [
    "processing_parameterstr.iloc[:,[1,3,5,7,9,11]].hist(figsize=(20,30),bins=20)\n",
    "plt.ylim(0,800)\n",
    "plt.xticks()\n",
    "plt.yticks()"
   ]
  },
  {
   "cell_type": "code",
   "execution_count": null,
   "metadata": {},
   "outputs": [],
   "source": [
    "processing_parameterstr.plot(subplots=True,figsize=(20,30))\n",
    "plt.ylim(0,800)\n",
    "plt.xticks()\n",
    "plt.yticks()"
   ]
  },
  {
   "cell_type": "code",
   "execution_count": null,
   "metadata": {},
   "outputs": [],
   "source": [
    "#Flotation parameters next stage\n",
    "\n",
    "processing_parameterstr.iloc[:,[0,2,4,6,8,10,12]].plot(subplots=True,figsize=(20,30),ylim=(175,400))\n",
    "#plt.ylim(0,800)\n",
    "plt.xticks()\n",
    "plt.yticks()\n",
    "plt.ylim(175,400)"
   ]
  },
  {
   "cell_type": "code",
   "execution_count": null,
   "metadata": {},
   "outputs": [],
   "source": [
    "processing_parameterstr.iloc[28000:300000,[4,6,8]].plot(subplots=True,figsize=(20,30),ylim=(175,400))\n",
    "#plt.ylim(0,800)\n",
    "plt.xticks()\n",
    "plt.yticks()\n"
   ]
  },
  {
   "cell_type": "code",
   "execution_count": null,
   "metadata": {},
   "outputs": [],
   "source": [
    "#Flotation parameters next stage\n",
    "\n",
    "processing_parameterstr.iloc[28000:300000,[1,3,5,7,9,11]].plot(subplots=True,figsize=(20,30),ylim=(0,900))\n",
    "\n",
    "plt.xticks()\n",
    "plt.yticks()\n"
   ]
  },
  {
   "cell_type": "code",
   "execution_count": null,
   "metadata": {},
   "outputs": [],
   "source": [
    "processing_parameterstr.iloc[28000:300000,:4].plot(subplots=True,figsize=(20,30))\n",
    "plt.ylim(0,800)\n",
    "plt.xticks()\n",
    "plt.yticks()\n"
   ]
  },
  {
   "cell_type": "markdown",
   "metadata": {},
   "source": [
    "# flotation cell output time series data analysis "
   ]
  },
  {
   "cell_type": "code",
   "execution_count": null,
   "metadata": {},
   "outputs": [],
   "source": [
    "mining_df_final.columns\n",
    "\n",
    "mining_df_outputs=mining_df_final[['% Iron Concentrate',\n",
    "                             '% Silica Concentrate',\n",
    "                             '%_Iron_gained',\n",
    "                             '%_Silica_removed']]"
   ]
  },
  {
   "cell_type": "code",
   "execution_count": null,
   "metadata": {},
   "outputs": [],
   "source": [
    "mining_df_outputs.plot(subplots=True,figsize=(20,30))"
   ]
  },
  {
   "cell_type": "code",
   "execution_count": null,
   "metadata": {},
   "outputs": [],
   "source": []
  },
  {
   "cell_type": "code",
   "execution_count": null,
   "metadata": {},
   "outputs": [],
   "source": []
  },
  {
   "cell_type": "code",
   "execution_count": null,
   "metadata": {},
   "outputs": [],
   "source": []
  },
  {
   "cell_type": "code",
   "execution_count": null,
   "metadata": {},
   "outputs": [],
   "source": []
  },
  {
   "cell_type": "code",
   "execution_count": null,
   "metadata": {},
   "outputs": [],
   "source": []
  },
  {
   "cell_type": "markdown",
   "metadata": {},
   "source": [
    "# Points in data where % Iron and % Silica feed where not reading back correctly. "
   ]
  },
  {
   "cell_type": "code",
   "execution_count": null,
   "metadata": {
    "scrolled": true
   },
   "outputs": [],
   "source": [
    "#Print investigation into flatline values locatoin for analysis \n",
    "#Visibility of entire dataset \n",
    "mining_df_final['% Iron Feed'][215000:363000].plot(figsize=(20,10))\n",
    "plt.title('% Iron Feed Overall Time Series',fontsize=15)\n",
    "plt.ylabel('% Iron Feed',fontsize=15)\n",
    "plt.xlabel('Date time',fontsize=15)\n",
    "plt.ylim(60,66)"
   ]
  },
  {
   "cell_type": "code",
   "execution_count": null,
   "metadata": {
    "scrolled": true
   },
   "outputs": [],
   "source": [
    "\n",
    "mining_df_final['% Iron Feed'][24500:30000].plot(figsize=(20,10))"
   ]
  },
  {
   "cell_type": "code",
   "execution_count": null,
   "metadata": {
    "scrolled": true
   },
   "outputs": [],
   "source": [
    "#Print investigation into flatline values locatoin for analysis \n",
    "#Visibility of entire dataset \n",
    "mining_df_final['% Iron Feed'][525000:580000].plot(figsize=(20,10))\n",
    "plt.title('% Iron Feed Overall Time Series',fontsize=15)\n",
    "plt.ylabel('% Iron Feed',fontsize=15)\n",
    "plt.xlabel('Date time',fontsize=15)\n",
    "#plt.ylim(60,66)"
   ]
  },
  {
   "cell_type": "code",
   "execution_count": null,
   "metadata": {
    "scrolled": true
   },
   "outputs": [],
   "source": [
    "#Print investigation into flatline values locatoin for analysis \n",
    "#Visibility of entire dataset \n",
    "mining_df_final['% Iron Feed'][590000:630000].plot(figsize=(20,10))\n",
    "plt.title('% Iron Feed Overall Time Series',fontsize=15)\n",
    "plt.ylabel('% Iron Feed',fontsize=15)\n",
    "plt.xlabel('Date time',fontsize=15)\n",
    "#plt.ylim(60,66)"
   ]
  }
 ],
 "metadata": {
  "kernelspec": {
   "display_name": "Python 3",
   "language": "python",
   "name": "python3"
  },
  "language_info": {
   "codemirror_mode": {
    "name": "ipython",
    "version": 3
   },
   "file_extension": ".py",
   "mimetype": "text/x-python",
   "name": "python",
   "nbconvert_exporter": "python",
   "pygments_lexer": "ipython3",
   "version": "3.6.4"
  },
  "toc": {
   "base_numbering": 1,
   "nav_menu": {},
   "number_sections": true,
   "sideBar": true,
   "skip_h1_title": false,
   "title_cell": "Table of Contents",
   "title_sidebar": "Contents",
   "toc_cell": true,
   "toc_position": {},
   "toc_section_display": true,
   "toc_window_display": false
  }
 },
 "nbformat": 4,
 "nbformat_minor": 2
}
